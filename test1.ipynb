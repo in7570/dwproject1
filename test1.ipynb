{
 "cells": [
  {
   "cell_type": "code",
   "execution_count": null,
   "metadata": {},
   "outputs": [],
   "source": [
    "import sys\n",
    "import subprocess\n",
    "\n",
    "#pandas모듈설치확인\n",
    "try:\n",
    "    # 없는 모듈 import시 에러 발생\n",
    "    import pandas\n",
    "except:\n",
    "    # pip 모듈 업그레이드\n",
    "    subprocess.check_call([sys.executable,'-m', 'pip', 'install', '--upgrade', 'pip'])\n",
    "    # 에러 발생한 모듈 설치\n",
    "    subprocess.check_call([sys.executable,'-m', 'pip', 'install', '--upgrade', 'pandas'])\n",
    "    # 다시 import\n",
    "    import pandas\n",
    "\n",
    "\n",
    "#selenium모듈설치확인\n",
    "try:\n",
    "    from selenium import webdriver\n",
    "except:\n",
    "    # pip 모듈 업그레이드\n",
    "    subprocess.check_call([sys.executable,'-m', 'pip', 'install', '--upgrade', 'pip'])\n",
    "    # 에러 발생한 모듈 설치\n",
    "    subprocess.check_call([sys.executable,'-m', 'pip', 'install', '--upgrade', 'selenium'])\n",
    "    # 다시 import\n",
    "    from selenium import webdriver\n",
    "\n",
    "try:\n",
    "    import time\n",
    "except:\n",
    "                                                                                                                                                                                        "
   ]
  },
  {
   "cell_type": "code",
   "execution_count": 10,
   "metadata": {},
   "outputs": [
    {
     "name": "stdout",
     "output_type": "stream",
     "text": [
      "Note: you may need to restart the kernel to use updated packages.\n"
     ]
    }
   ],
   "source": [
    "pip freeze > requirements.txt"
   ]
  },
  {
   "cell_type": "code",
   "execution_count": null,
   "metadata": {},
   "outputs": [],
   "source": [
    "#임서인\n",
    "#미션3\n",
    "import selenium\n",
    "from selenium.webdriver.common.keys import Keys\n",
    "from selenium import webdriver\n",
    "from selenium.webdriver.common.by import By\n",
    "import time\n",
    "\n",
    "path='C:\\chromedriver_win32\\chromedriver.exe'\n",
    "driver= webdriver.Chrome(path)\n",
    "driver.get(\"https://www.naver.com\")\n",
    "time.sleep(1)\n",
    "\n",
    "element1=driver.find_element(By.CLASS_NAME,'link_login')\n",
    "element1.click()\n",
    "\n",
    "time.sleep(1)\n",
    "element2=driver.find_element(By.ID,'id')\n",
    "element2.send_keys('system')\n",
    "\n",
    "time.sleep(1)\n",
    "element3=driver.find_element(By.ID,'pw')\n",
    "element3.send_keys('1234')\n",
    "\n",
    "time.sleep(1)\n",
    "btn=driver.find_element(By.CLASS_NAME,'btn_login_wrap')\n",
    "btn.click()"
   ]
  }
 ],
 "metadata": {
  "kernelspec": {
   "display_name": "Python 3",
   "language": "python",
   "name": "python3"
  },
  "language_info": {
   "codemirror_mode": {
    "name": "ipython",
    "version": 3
   },
   "file_extension": ".py",
   "mimetype": "text/x-python",
   "name": "python",
   "nbconvert_exporter": "python",
   "pygments_lexer": "ipython3",
   "version": "3.11.1"
  },
  "orig_nbformat": 4,
  "vscode": {
   "interpreter": {
    "hash": "1682e5d06a6d97c1b1cf6bb4ae6cf16223e994936ddb1d53664597d7d46101fa"
   }
  }
 },
 "nbformat": 4,
 "nbformat_minor": 2
}
