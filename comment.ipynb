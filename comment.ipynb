{
 "cells": [
  {
   "cell_type": "code",
   "execution_count": null,
   "metadata": {},
   "outputs": [],
   "source": [
    "pip install openpyxl"
   ]
  },
  {
   "cell_type": "code",
   "execution_count": null,
   "metadata": {},
   "outputs": [],
   "source": [
    "%pip install webdriver-manager"
   ]
  },
  {
   "cell_type": "code",
   "execution_count": null,
   "metadata": {},
   "outputs": [],
   "source": []
  },
  {
   "cell_type": "code",
   "execution_count": 1,
   "metadata": {},
   "outputs": [],
   "source": [
    "import time\n",
    "from openpyxl import Workbook\n",
    "import pandas as pd\n",
    "from bs4 import BeautifulSoup\n",
    "#\n",
    "from selenium.webdriver.common.by import By\n",
    "from selenium.webdriver.common.keys import Keys\n",
    "#chrome driver 링크 연결 없이 바로 하는 법\n",
    "#%pip install webdriver-manager (install받아야함)\n",
    "from selenium import webdriver\n",
    "from selenium.webdriver.chrome.service import Service\n",
    "from selenium.webdriver.chrome.options import Options\n",
    "from webdriver_manager.chrome import ChromeDriverManager\n",
    "\n",
    "#경고메세지 지워줌\n",
    "import warnings \n",
    "warnings.filterwarnings('ignore')"
   ]
  },
  {
   "cell_type": "code",
   "execution_count": 38,
   "metadata": {},
   "outputs": [],
   "source": [
    "#엑셀 시트 생성\n",
    "wb = Workbook(write_only=True)\n",
    "ws = wb.create_sheet()\n"
   ]
  },
  {
   "cell_type": "code",
   "execution_count": 26,
   "metadata": {},
   "outputs": [],
   "source": [
    "#크롬드라이버 링크 연결\n",
    "# path='C:\\chromedriver_win32\\chromedriver.exe'\n",
    "# driver= webdriver.Chrome(path) ->\n",
    "driver = webdriver.Chrome(service=Service(ChromeDriverManager().install()), options=Options())\n",
    "\n",
    "#스크롤 시 풀 스크린으로 켜지게되면 우측에 '추천영상' 때문에 댓글보다 더 스크롤이 내려가게 됨\n",
    "#하프 사이즈의 스크린으로 켜게 되면 추천영상이 일정이상 새로고침되지 않음 \n",
    "driver.set_window_size(800, 1100)\n",
    "#이 상태에서는 링크창에 data;,라고 적힌채로 대기상태에 들어감"
   ]
  },
  {
   "cell_type": "code",
   "execution_count": 27,
   "metadata": {},
   "outputs": [],
   "source": [
    "#1. 검색어 입력받기\n",
    "search=input()\n",
    "driver.implicitly_wait(3)\n",
    "\n",
    "\n",
    "#2. 유튜브 실행\n",
    "driver.get(\"https://www.youtube.com\")\n",
    "#3초안에 웹페이지를 로딩하면 바로넘어가거나, 3초를 기다림\n",
    "driver.implicitly_wait(3)\n",
    "\n",
    "#get(링크)로 안하고 이것만 실행하면\n",
    "#현재 페이지에 합쳐진다!!!\n",
    "\n",
    "######검색#######\n",
    "\n",
    "\n",
    "#3. 검색어 send\n",
    "#ID,CLASS_NAME으로 하면 send가 안되거나 click조차 안될때가 있었음\n",
    "#NAME으로 하면 둘 다 해결됨 이유는 모름?\n",
    "search_text=driver.find_element(By.NAME,'search_query')\n",
    "\n",
    "#로딩이 다 안됐기때문에 1초 기다려줌\n",
    "driver.implicitly_wait(1)\n",
    "time.sleep(1)\n",
    "\n",
    "#4. 검색어 전송\n",
    "search_text.send_keys(search+\" -Shorts\")\n",
    "driver.implicitly_wait(5)\n",
    "\n",
    "#검색버튼 누르기\n",
    "# search_btn=driver.find_element(By.CLASS_NAME,'style-scope.ytd-searchbox')\n",
    "# search_btn.click()\n",
    "# driver.implicitly_wait(3)\n",
    "\n",
    "#5. 검색(엔터 누르기)\n",
    "search_text.send_keys(Keys.ENTER)"
   ]
  },
  {
   "cell_type": "code",
   "execution_count": null,
   "metadata": {},
   "outputs": [],
   "source": [
    "######영상 선정######\n",
    "id='dismissible'\n",
    "\n"
   ]
  },
  {
   "cell_type": "code",
   "execution_count": 29,
   "metadata": {},
   "outputs": [],
   "source": [
    "######스크롤하기######\n",
    "#댓글 전체 스크랩하기 위해\n",
    "\n",
    "#275개의 댓글 >> 23.5s , 23.2s , 24.0s 23~24s\n",
    "\n",
    "\n",
    "#화면 최하단으로 스크롤 이동 : scrollTo(0, document.body.scrollHeight)\n",
    "#자바 스크립트 문법 >execute_script(자바스크립트를 실행) > scrollTo\n",
    "\n",
    "#window.scrollTo(x-좌표, y-좌표)\n",
    "#시작위치지정(댓글창이 시작되는 위치)\n",
    "#화면사이즈를 반으로 줄이고나니 스크롤을 끝까지 내린 후에 댓글이 생김\n",
    "driver.execute_script(\"window.scrollTo(0, document.documentElement.scrollHeight)\")\n",
    "driver.implicitly_wait(10)\n",
    "\n",
    "#스크롤 이전 높이\n",
    "#화면 바깥으로 삐져나간 부분까지 포함해서 전체 글의 길이를 scrollHeight\n",
    "last_height = driver.execute_script(\"return document.documentElement.scrollHeight\")\n",
    "\n",
    "while True:\n",
    "    #스크롤의 y좌표를 가장아래(scrollHeight)까지 내림\n",
    "    driver.execute_script(\"window.scrollTo(0, document.documentElement.scrollHeight);\")\n",
    "    time.sleep(1.5)\n",
    "\n",
    "    #스크롤 후 높이 구하기\n",
    "    new_height = driver.execute_script(\"return document.documentElement.scrollHeight\")\n",
    "    #끝까지 스크롤 한 뒤 멈추기\n",
    "    if new_height == last_height:\n",
    "        break\n",
    "    last_height = new_height\n",
    "\n",
    "driver.implicitly_wait(1.5)\n"
   ]
  },
  {
   "cell_type": "code",
   "execution_count": null,
   "metadata": {},
   "outputs": [],
   "source": [
    "######유튜브 팝업 닫기######\n",
    "\n",
    "#find_element_by_css_selector는 과거의 속성 find_element를 쓰는게 나음\n",
    "try:\n",
    "    driver.find_element(By.CSS_SELECTOR,\"#dismiss-button > a\").click()\n",
    "except:\n",
    "    pass"
   ]
  },
  {
   "cell_type": "code",
   "execution_count": 30,
   "metadata": {},
   "outputs": [],
   "source": [
    "######대댓글 토글 열기######\n",
    "# replies = driver.find_element(By.CSS_SELECTOR,\"#more-replies > a\")\n",
    "# replies = driver.find_elements(By.CSS_SELECTOR,\"#more-replies>a\")\n",
    "\n",
    "#find_elements < 무려 s를 안해서틀렸었음 하하 \n",
    "replies = driver.find_elements(By.CLASS_NAME,\"more-button\")\n",
    "\n",
    "time.sleep(1)\n",
    "\n",
    "for reply in replies:\n",
    "    #click도 안됨 send_keys도 안됨\n",
    "    driver.execute_script(\"arguments[0].click();\", reply)\n",
    "    time.sleep(1.5) \n",
    "\n",
    "# reply.click()\n",
    "# reply.send_keys(Keys.ENTER)\n",
    "# 이거 안됨 스크립트로 해결함 근데 11분 18초 걸림!!!!!"
   ]
  },
  {
   "cell_type": "code",
   "execution_count": 37,
   "metadata": {},
   "outputs": [],
   "source": [
    "######댓글 가져오기#######\n",
    "#page_source\n",
    "#브라우저에 보이는 그대로의 HTML, 크롬 개발자 도구의 Element 탭 내용과 동일.\n",
    "html_source = driver.page_source\n",
    "#BeautifulSoup(html문서,'html.parser')\n",
    "soup = BeautifulSoup(html_source, 'html.parser')\n",
    "\n",
    "#soup.select 조건에 맞는 태그를 여러개 가져옴 \n",
    "#soup.select_one() 조건에 맞는 태그를 한개(여러개가 있어도 한개만)\n",
    "#태그이름  .클래스이름  #아이디이름  상위태그>자식태그>자식태그\n",
    "#아이디>태그.클래스이름\n",
    "id_list = soup.select(\"div#header-author > h3 > #author-text > span\")\n",
    "comment_list = soup.select(\"yt-formatted-string#content-text\")\n",
    "\n",
    "id_final = []\n",
    "comment_final = []\n",
    "\n",
    "for i in range(len(comment_list)):\n",
    "    temp_id = id_list[i].text  #아이디 리스트를 가져와서\n",
    "    temp_id = temp_id.replace('\\n', '') #필요한 부분만 남기면\n",
    "    temp_id = temp_id.replace('\\t', '')\n",
    "    temp_id = temp_id.replace('    ', '')\n",
    "    id_final.append(temp_id) # 댓글 작성자 id_final이 생김\n",
    "\n",
    "    temp_comment = comment_list[i].text #마찬가지\n",
    "    temp_comment = temp_comment.replace('\\n', '')\n",
    "    temp_comment = temp_comment.replace('\\t', '')\n",
    "    temp_comment = temp_comment.replace('    ', '')\n",
    "    comment_final.append(temp_comment) # 댓글 내용\n",
    "\n",
    "# #결과확인\n",
    "# print(\"아이디 출력: \")\n",
    "# print(id_final)\n",
    "# print('=================')\n",
    "# print(\"댓글 출력: \")\n",
    "# print(comment_final)"
   ]
  },
  {
   "cell_type": "code",
   "execution_count": 39,
   "metadata": {},
   "outputs": [],
   "source": [
    "######추출한 아이디 댓글 저장하기######\n",
    "pd_data = {\"아이디\" : id_final , \"댓글 내용\" : comment_final}\n",
    "#pandas DataFrame만들기 =Table형식의 데이터를 다룰 때 사용한다.\n",
    "youtube_pd = pd.DataFrame(pd_data)\n",
    "\n",
    "youtube_pd.to_excel('result.xlsx')"
   ]
  },
  {
   "cell_type": "code",
   "execution_count": null,
   "metadata": {},
   "outputs": [],
   "source": []
  }
 ],
 "metadata": {
  "kernelspec": {
   "display_name": "Python 3",
   "language": "python",
   "name": "python3"
  },
  "language_info": {
   "codemirror_mode": {
    "name": "ipython",
    "version": 3
   },
   "file_extension": ".py",
   "mimetype": "text/x-python",
   "name": "python",
   "nbconvert_exporter": "python",
   "pygments_lexer": "ipython3",
   "version": "3.11.1"
  },
  "orig_nbformat": 4,
  "vscode": {
   "interpreter": {
    "hash": "1682e5d06a6d97c1b1cf6bb4ae6cf16223e994936ddb1d53664597d7d46101fa"
   }
  }
 },
 "nbformat": 4,
 "nbformat_minor": 2
}
