{
 "cells": [
  {
   "attachments": {},
   "cell_type": "markdown",
   "metadata": {},
   "source": [
    "##초기작업\n",
    "pip install openpyxl \n",
    "pip install webdriver-manager\n",
    "pip install selenium\n",
    "pip install konlpy\n",
    "pip install pandas\n",
    "pip install BeautifulSoup4\n",
    "\n"
   ]
  },
  {
   "cell_type": "code",
   "execution_count": 2,
   "metadata": {},
   "outputs": [],
   "source": [
    "import time\n",
    "from openpyxl import Workbook\n",
    "import pandas as pd\n",
    "from bs4 import BeautifulSoup\n",
    "#\n",
    "from selenium.webdriver.common.by import By\n",
    "from selenium.webdriver.common.keys import Keys\n",
    "#chrome driver 링크 연결 없이 바로 하는 법\n",
    "#%pip install webdriver-manager (install받아야함)\n",
    "from selenium import webdriver\n",
    "from selenium.webdriver.chrome.service import Service\n",
    "from selenium.webdriver.chrome.options import Options\n",
    "from webdriver_manager.chrome import ChromeDriverManager\n",
    "\n",
    "#문자열에서 특수문자 제거\n",
    "import re\n",
    "#자동으로 엑셀 파일 열기위함(^^)\n",
    "import openpyxl\n",
    "#경고메세지 지워줌\n",
    "import warnings \n",
    "warnings.filterwarnings('ignore')\n",
    "\n",
    "#전처리\n",
    "import konlpy\n",
    "from konlpy.tag import Twitter"
   ]
  },
  {
   "cell_type": "code",
   "execution_count": 3,
   "metadata": {},
   "outputs": [],
   "source": [
    "#엑셀 시트 생성\n",
    "wb = Workbook(write_only=True)\n",
    "ws = wb.create_sheet()\n"
   ]
  },
  {
   "cell_type": "code",
   "execution_count": 4,
   "metadata": {},
   "outputs": [
    {
     "name": "stderr",
     "output_type": "stream",
     "text": [
      "[WDM] - Downloading: 100%|██████████| 6.78M/6.78M [00:00<00:00, 7.83MB/s]\n"
     ]
    }
   ],
   "source": [
    "#크롬드라이버 링크 연결\n",
    "# path='C:\\chromedriver_win32\\chromedriver.exe'\n",
    "# driver= webdriver.Chrome(path) ->\n",
    "driver = webdriver.Chrome(service=Service(ChromeDriverManager().install()), options=Options())\n",
    "\n",
    "#스크롤 시 풀 스크린으로 켜지게되면 우측에 '추천영상' 때문에 댓글보다 더 스크롤이 내려가게 됨\n",
    "#하프 사이즈의 스크린으로 켜게 되면 추천영상이 일정이상 새로고침되지 않음 \n",
    "driver.set_window_size(800, 1100)\n",
    "#이 상태에서는 링크창에 data;,라고 적힌채로 대기상태에 들어감"
   ]
  },
  {
   "cell_type": "code",
   "execution_count": 5,
   "metadata": {},
   "outputs": [
    {
     "ename": "NoSuchWindowException",
     "evalue": "Message: no such window: target window already closed\nfrom unknown error: web view not found\n  (Session info: chrome=110.0.5481.177)\nStacktrace:\nBacktrace:\n\t(No symbol) [0x00CB37D3]\n\t(No symbol) [0x00C48B81]\n\t(No symbol) [0x00B4B36D]\n\t(No symbol) [0x00B2E5DA]\n\t(No symbol) [0x00B9F0CB]\n\t(No symbol) [0x00BB0A56]\n\t(No symbol) [0x00B9B216]\n\t(No symbol) [0x00B70D97]\n\t(No symbol) [0x00B7253D]\n\tGetHandleVerifier [0x00F2ABF2+2510930]\n\tGetHandleVerifier [0x00F58EC1+2700065]\n\tGetHandleVerifier [0x00F5C86C+2714828]\n\tGetHandleVerifier [0x00D63480+645344]\n\t(No symbol) [0x00C50FD2]\n\t(No symbol) [0x00C56C68]\n\t(No symbol) [0x00C56D4B]\n\t(No symbol) [0x00C60D6B]\n\tBaseThreadInitThunk [0x751F6BD9+25]\n\tRtlGetFullPathName_UEx [0x77028FD2+1218]\n\tRtlGetFullPathName_UEx [0x77028F9D+1165]\n",
     "output_type": "error",
     "traceback": [
      "\u001b[1;31m---------------------------------------------------------------------------\u001b[0m",
      "\u001b[1;31mNoSuchWindowException\u001b[0m                     Traceback (most recent call last)",
      "Cell \u001b[1;32mIn[5], line 20\u001b[0m\n\u001b[0;32m      9\u001b[0m driver\u001b[39m.\u001b[39mimplicitly_wait(\u001b[39m3\u001b[39m)\n\u001b[0;32m     11\u001b[0m \u001b[39m#get(링크)로 안하고 이것만 실행하면\u001b[39;00m\n\u001b[0;32m     12\u001b[0m \u001b[39m#현재 페이지에 합쳐진다!!!\u001b[39;00m\n\u001b[0;32m     13\u001b[0m \n\u001b[1;32m   (...)\u001b[0m\n\u001b[0;32m     18\u001b[0m \u001b[39m#ID,CLASS_NAME으로 하면 send가 안되거나 click조차 안될때가 있었음\u001b[39;00m\n\u001b[0;32m     19\u001b[0m \u001b[39m#NAME으로 하면 둘 다 해결됨 이유는 모름?\u001b[39;00m\n\u001b[1;32m---> 20\u001b[0m search_text\u001b[39m=\u001b[39mdriver\u001b[39m.\u001b[39;49mfind_element(By\u001b[39m.\u001b[39;49mNAME,\u001b[39m'\u001b[39;49m\u001b[39msearch_query\u001b[39;49m\u001b[39m'\u001b[39;49m)\n\u001b[0;32m     22\u001b[0m \u001b[39m#로딩이 다 안됐기때문에 1초 기다려줌\u001b[39;00m\n\u001b[0;32m     23\u001b[0m driver\u001b[39m.\u001b[39mimplicitly_wait(\u001b[39m1\u001b[39m)\n",
      "File \u001b[1;32mc:\\Python310\\lib\\site-packages\\selenium\\webdriver\\remote\\webdriver.py:830\u001b[0m, in \u001b[0;36mWebDriver.find_element\u001b[1;34m(self, by, value)\u001b[0m\n\u001b[0;32m    827\u001b[0m     by \u001b[39m=\u001b[39m By\u001b[39m.\u001b[39mCSS_SELECTOR\n\u001b[0;32m    828\u001b[0m     value \u001b[39m=\u001b[39m \u001b[39mf\u001b[39m\u001b[39m'\u001b[39m\u001b[39m[name=\u001b[39m\u001b[39m\"\u001b[39m\u001b[39m{\u001b[39;00mvalue\u001b[39m}\u001b[39;00m\u001b[39m\"\u001b[39m\u001b[39m]\u001b[39m\u001b[39m'\u001b[39m\n\u001b[1;32m--> 830\u001b[0m \u001b[39mreturn\u001b[39;00m \u001b[39mself\u001b[39;49m\u001b[39m.\u001b[39;49mexecute(Command\u001b[39m.\u001b[39;49mFIND_ELEMENT, {\u001b[39m\"\u001b[39;49m\u001b[39musing\u001b[39;49m\u001b[39m\"\u001b[39;49m: by, \u001b[39m\"\u001b[39;49m\u001b[39mvalue\u001b[39;49m\u001b[39m\"\u001b[39;49m: value})[\u001b[39m\"\u001b[39m\u001b[39mvalue\u001b[39m\u001b[39m\"\u001b[39m]\n",
      "File \u001b[1;32mc:\\Python310\\lib\\site-packages\\selenium\\webdriver\\remote\\webdriver.py:440\u001b[0m, in \u001b[0;36mWebDriver.execute\u001b[1;34m(self, driver_command, params)\u001b[0m\n\u001b[0;32m    438\u001b[0m response \u001b[39m=\u001b[39m \u001b[39mself\u001b[39m\u001b[39m.\u001b[39mcommand_executor\u001b[39m.\u001b[39mexecute(driver_command, params)\n\u001b[0;32m    439\u001b[0m \u001b[39mif\u001b[39;00m response:\n\u001b[1;32m--> 440\u001b[0m     \u001b[39mself\u001b[39;49m\u001b[39m.\u001b[39;49merror_handler\u001b[39m.\u001b[39;49mcheck_response(response)\n\u001b[0;32m    441\u001b[0m     response[\u001b[39m\"\u001b[39m\u001b[39mvalue\u001b[39m\u001b[39m\"\u001b[39m] \u001b[39m=\u001b[39m \u001b[39mself\u001b[39m\u001b[39m.\u001b[39m_unwrap_value(response\u001b[39m.\u001b[39mget(\u001b[39m\"\u001b[39m\u001b[39mvalue\u001b[39m\u001b[39m\"\u001b[39m, \u001b[39mNone\u001b[39;00m))\n\u001b[0;32m    442\u001b[0m     \u001b[39mreturn\u001b[39;00m response\n",
      "File \u001b[1;32mc:\\Python310\\lib\\site-packages\\selenium\\webdriver\\remote\\errorhandler.py:245\u001b[0m, in \u001b[0;36mErrorHandler.check_response\u001b[1;34m(self, response)\u001b[0m\n\u001b[0;32m    243\u001b[0m         alert_text \u001b[39m=\u001b[39m value[\u001b[39m\"\u001b[39m\u001b[39malert\u001b[39m\u001b[39m\"\u001b[39m]\u001b[39m.\u001b[39mget(\u001b[39m\"\u001b[39m\u001b[39mtext\u001b[39m\u001b[39m\"\u001b[39m)\n\u001b[0;32m    244\u001b[0m     \u001b[39mraise\u001b[39;00m exception_class(message, screen, stacktrace, alert_text)  \u001b[39m# type: ignore[call-arg]  # mypy is not smart enough here\u001b[39;00m\n\u001b[1;32m--> 245\u001b[0m \u001b[39mraise\u001b[39;00m exception_class(message, screen, stacktrace)\n",
      "\u001b[1;31mNoSuchWindowException\u001b[0m: Message: no such window: target window already closed\nfrom unknown error: web view not found\n  (Session info: chrome=110.0.5481.177)\nStacktrace:\nBacktrace:\n\t(No symbol) [0x00CB37D3]\n\t(No symbol) [0x00C48B81]\n\t(No symbol) [0x00B4B36D]\n\t(No symbol) [0x00B2E5DA]\n\t(No symbol) [0x00B9F0CB]\n\t(No symbol) [0x00BB0A56]\n\t(No symbol) [0x00B9B216]\n\t(No symbol) [0x00B70D97]\n\t(No symbol) [0x00B7253D]\n\tGetHandleVerifier [0x00F2ABF2+2510930]\n\tGetHandleVerifier [0x00F58EC1+2700065]\n\tGetHandleVerifier [0x00F5C86C+2714828]\n\tGetHandleVerifier [0x00D63480+645344]\n\t(No symbol) [0x00C50FD2]\n\t(No symbol) [0x00C56C68]\n\t(No symbol) [0x00C56D4B]\n\t(No symbol) [0x00C60D6B]\n\tBaseThreadInitThunk [0x751F6BD9+25]\n\tRtlGetFullPathName_UEx [0x77028FD2+1218]\n\tRtlGetFullPathName_UEx [0x77028F9D+1165]\n"
     ]
    }
   ],
   "source": [
    "\n",
    "#1. 검색어 입력받기\n",
    "search=input()\n",
    "driver.implicitly_wait(3)\n",
    "\n",
    "\n",
    "#2. 유튜브 실행\n",
    "driver.get(\"https://www.youtube.com\")\n",
    "#3초안에 웹페이지를 로딩하면 바로넘어가거나, 3초를 기다림\n",
    "driver.implicitly_wait(3)\n",
    "\n",
    "#get(링크)로 안하고 이것만 실행하면\n",
    "#현재 페이지에 합쳐진다!!!\n",
    "\n",
    "######검색#######\n",
    "\n",
    "\n",
    "#3. 검색어 send\n",
    "#ID,CLASS_NAME으로 하면 send가 안되거나 click조차 안될때가 있었음\n",
    "#NAME으로 하면 둘 다 해결됨 이유는 모름?\n",
    "search_text=driver.find_element(By.NAME,'search_query')\n",
    "\n",
    "#로딩이 다 안됐기때문에 1초 기다려줌\n",
    "driver.implicitly_wait(1)\n",
    "# time.sleep(1)\n",
    "\n",
    "#4. 검색어 전송\n",
    "search_text.send_keys(search+\" -Shorts\")\n",
    "driver.implicitly_wait(5)\n",
    "\n",
    "#검색버튼 누르기\n",
    "# search_btn=driver.find_element(By.CLASS_NAME,'style-scope.ytd-searchbox')\n",
    "# search_btn.click()\n",
    "# driver.implicitly_wait(3)\n",
    "\n",
    "#5. 검색(엔터 누르기)\n",
    "search_text.send_keys(Keys.ENTER)"
   ]
  },
  {
   "cell_type": "code",
   "execution_count": null,
   "metadata": {},
   "outputs": [],
   "source": [
    "######영상 선정######\n",
    "id='dismissible'\n",
    "\n"
   ]
  },
  {
   "cell_type": "code",
   "execution_count": null,
   "metadata": {},
   "outputs": [],
   "source": []
  },
  {
   "cell_type": "code",
   "execution_count": null,
   "metadata": {},
   "outputs": [],
   "source": [
    "######스크롤하기######\n",
    "#댓글 전체 스크랩하기 위해\n",
    "\n",
    "#275개의 댓글 >> 23.5s , 23.2s , 24.0s 23~24s\n",
    "\n",
    "\n",
    "#화면 최하단으로 스크롤 이동 : scrollTo(0, document.body.scrollHeight)\n",
    "#자바 스크립트 문법 >execute_script(자바스크립트를 실행) > scrollTo\n",
    "\n",
    "#window.scrollTo(x-좌표, y-좌표)\n",
    "#시작위치지정(댓글창이 시작되는 위치)\n",
    "#화면사이즈를 반으로 줄이고나니 스크롤을 끝까지 내린 후에 댓글이 생김\n",
    "driver.execute_script(\"window.scrollTo(0, document.documentElement.scrollHeight)\")\n",
    "driver.implicitly_wait(10)\n",
    "\n",
    "#스크롤 이전 높이\n",
    "#화면 바깥으로 삐져나간 부분까지 포함해서 전체 글의 길이를 scrollHeight\n",
    "last_height = driver.execute_script(\"return document.documentElement.scrollHeight\")\n",
    "\n",
    "while True:\n",
    "    #스크롤의 y좌표를 가장아래(scrollHeight)까지 내림\n",
    "    driver.execute_script(\"window.scrollTo(0, document.documentElement.scrollHeight);\")\n",
    "    driver.ex\n",
    "\n",
    "    #스크롤 후 높이 구하기\n",
    "    new_height = driver.execute_script(\"return document.documentElement.scrollHeight\")\n",
    "    #끝까지 스크롤 한 뒤 멈추기\n",
    "    if new_height == last_height:\n",
    "        break\n",
    "    last_height = new_height\n",
    "\n",
    "driver.implicitly_wait(1.5)\n"
   ]
  },
  {
   "cell_type": "code",
   "execution_count": null,
   "metadata": {},
   "outputs": [],
   "source": [
    "######유튜브 팝업 닫기######\n",
    "\n",
    "#find_element_by_css_selector는 과거의 속성 find_element를 쓰는게 나음\n",
    "try:\n",
    "    driver.find_element(By.CSS_SELECTOR,\"#dismiss-button > a\").click()\n",
    "except:\n",
    "    pass"
   ]
  },
  {
   "cell_type": "code",
   "execution_count": null,
   "metadata": {},
   "outputs": [],
   "source": [
    "######대댓글 토글 열기######\n",
    "# replies = driver.find_element(By.CSS_SELECTOR,\"#more-replies > a\")\n",
    "# replies = driver.find_elements(By.CSS_SELECTOR,\"#more-replies>a\")\n",
    "\n",
    "#find_elements < 무려 s를 안해서틀렸었음 하하 \n",
    "replies = driver.find_elements(By.CLASS_NAME,\"more-button\")\n",
    "\n",
    "time.sleep(1)\n",
    "\n",
    "for reply in replies:\n",
    "    #click도 안됨 send_keys도 안됨\n",
    "    driver.execute_script(\"arguments[0].click();\", reply)\n",
    "    time.sleep(1.5) \n",
    "\n",
    "# reply.click()\n",
    "# reply.send_keys(Keys.ENTER)\n",
    "# 이거 안됨 스크립트로 해결함 근데 11분 18초 걸림!!!!! 댓글 275개에\n",
    "# 댓글 106개 2m 50.2s\n"
   ]
  },
  {
   "cell_type": "code",
   "execution_count": null,
   "metadata": {},
   "outputs": [],
   "source": [
    "######댓글 가져오기#######\n",
    "#page_source\n",
    "#브라우저에 보이는 그대로의 HTML, 크롬 개발자 도구의 Element 탭 내용과 동일.\n",
    "html_source = driver.page_source\n",
    "#BeautifulSoup(html문서,'html.parser')\n",
    "soup = BeautifulSoup(html_source, 'html.parser')\n",
    "\n",
    "#soup.select 조건에 맞는 태그를 여러개 가져옴 \n",
    "#soup.select_one() 조건에 맞는 태그를 한개(여러개가 있어도 한개만)\n",
    "#태그이름  .클래스이름  #아이디이름  상위태그>자식태그>자식태그\n",
    "#아이디>태그.클래스이름\n",
    "id_list = soup.select(\"div#header-author > h3 > #author-text > span\")\n",
    "comment_list = soup.select(\"yt-formatted-string#content-text\")\n",
    "\n",
    "# id_final = []\n",
    "comment_final=[]\n",
    "\n",
    "\n",
    "\n",
    "twt=Twitter()\n",
    "\n",
    "for i in range(len(comment_list)):\n",
    "    # temp_id = id_list[i].text  #아이디 리스트를 가져와서\n",
    "    # temp_id = temp_id.replace('\\n', '') #필요한 부분만 남기면\n",
    "    # temp_id = temp_id.replace('\\t', '')\n",
    "    # temp_id = temp_id.replace('    ', '')\n",
    "    # temp_id = re.sub(r\"[^\\uAC00-\\uD7A30-9a-zA-Z\\s]\",\"\",temp_id)\n",
    "    # id_final.append(temp_id) # 댓글 작성자 id_final이 생김\n",
    "\n",
    "    temp_comment = comment_list[i].text #마찬가지\n",
    "    #형태소 기준으로 분리\n",
    "    temp_comment = twt.pos(temp_comment) \n",
    "#    temp_comment = temp_comment.replace('\\n', ' ') #필요한 부분만 남기면\n",
    "#   temp_comment = temp_comment.replace('\\t', ' ')\n",
    "#    temp_comment = temp_comment.replace('\\r', ' ').split(\" \") #여기서 split하면 1번ㅇ째 @ 찾을 수 있음\n",
    "\n",
    "    # 파이썬 특정 요소가 있는 리스트 제거  => 이거 안됨 @들어있는 모든 요소가 삭제됨\n",
    "    # temp_comment에 @머시깽이가 있으면 그 특정요소 지움  \n",
    "    # if temp_comment has @ > remove/delete element\n",
    "    # for i in range(len(temp_comment)):\n",
    "    #     if '@' in temp_comment[i]:\n",
    "    #         #i번째 temp_comment를 삭제하라\n",
    "    #         del temp_comment[i]\n",
    "\n",
    "  \n",
    "\n",
    "    #특수문자 빼기  contains(포함 유무)/find(포함되어있으면 어디에있는지 인덱스 값을 주고 없으면 -1을 줌)\n",
    "#    temp_comment = list(filter(lambda n:n.find('@')!=0,temp_comment))\n",
    "    # for넘길복잡 lambda로 함수부분에 한본에 넣어서 할라고?\n",
    "\n",
    "\n",
    "#     # 위에서 split해서 re.sub에 안들어감\n",
    "#     # temp_comment = re.sub(r\"[^\\uAC00-\\uD7A30-9a-zA-Z\\s]\",\" \",temp_comment).replace(u'\\xa0',u'').split(\" \")\n",
    "\n",
    "\n",
    "#     #map filter함수 사용법 @특정? \n",
    "#     # map(function, iterable) \n",
    "#     # function 적용시킬 함수\n",
    "#     # iterable 적용시킬 객체\n",
    "#     temp_comment=list(map(lambda n:re.sub(r\"[^\\uAC00-\\uD7A30-9a-zA-Z]\",\"\",n).replace(u'\\xa0',u''),temp_comment))\n",
    "\n",
    "#     temp_comment = list(filter(None,temp_comment))\n",
    "    comment_final.append(temp_comment)\n",
    "\n",
    "\n",
    "\n",
    "# # 2차원 배열을 1차원 배열로\n",
    "# # for element in comment_pocket:\n",
    "# #     comment_final += element\n",
    "\n",
    "# #->\n",
    "# comment_final= sum(comment_final,[])\n",
    "\n",
    "# #결과확인\n",
    "\n",
    "# print(\"댓글 출력: \")\n",
    "print(comment_final)\n",
    "\n",
    "\n"
   ]
  },
  {
   "cell_type": "code",
   "execution_count": null,
   "metadata": {},
   "outputs": [],
   "source": [
    "######추출한 아이디 댓글 저장하기######\n",
    "# pd_data = {\"아이디\" : id_final , \"댓글 내용\" : comment_final}\n",
    "pd_data = {\"댓글내용\" : [comment_final]}\n",
    "\n",
    "#pandas DataFrame만들기 =Table형식의 데이터를 다룰 때 사용한다.\n",
    "youtube_pd = pd.DataFrame(pd_data)\n",
    "print(pd_data)\n",
    "youtube_pd.drop([1], axis=0, inplace=True)\n",
    "\n",
    "\n",
    "youtube_pd.to_excel(search+'.xlsx')"
   ]
  },
  {
   "cell_type": "code",
   "execution_count": null,
   "metadata": {},
   "outputs": [],
   "source": []
  }
 ],
 "metadata": {
  "kernelspec": {
   "display_name": "Python 3",
   "language": "python",
   "name": "python3"
  },
  "language_info": {
   "codemirror_mode": {
    "name": "ipython",
    "version": 3
   },
   "file_extension": ".py",
   "mimetype": "text/x-python",
   "name": "python",
   "nbconvert_exporter": "python",
   "pygments_lexer": "ipython3",
   "version": "3.10.2"
  },
  "orig_nbformat": 4,
  "vscode": {
   "interpreter": {
    "hash": "369f2c481f4da34e4445cda3fffd2e751bd1c4d706f27375911949ba6bb62e1c"
   }
  }
 },
 "nbformat": 4,
 "nbformat_minor": 2
}
