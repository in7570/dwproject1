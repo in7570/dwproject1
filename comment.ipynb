{
 "cells": [
  {
   "cell_type": "code",
   "execution_count": null,
   "metadata": {},
   "outputs": [],
   "source": [
    "pip install openpyxl"
   ]
  },
  {
   "cell_type": "code",
   "execution_count": null,
   "metadata": {},
   "outputs": [],
   "source": [
    "%pip install webdriver-manager"
   ]
  },
  {
   "cell_type": "code",
   "execution_count": 68,
   "metadata": {},
   "outputs": [
    {
     "name": "stdout",
     "output_type": "stream",
     "text": [
      "Collecting git+https://github.com/haven-jeon/PyKoSpacing.git\n",
      "  Cloning https://github.com/haven-jeon/PyKoSpacing.git to c:\\users\\admin\\appdata\\local\\temp\\pip-req-build-azl67l0_\n",
      "  Resolved https://github.com/haven-jeon/PyKoSpacing.git to commit a058e90c9de41889c63bf2ee454bf1de064d70ff\n",
      "  Preparing metadata (setup.py): started\n",
      "  Preparing metadata (setup.py): finished with status 'done'\n",
      "Note: you may need to restart the kernel to use updated packages.\n"
     ]
    },
    {
     "name": "stderr",
     "output_type": "stream",
     "text": [
      "  Running command git clone --filter=blob:none --quiet https://github.com/haven-jeon/PyKoSpacing.git 'C:\\Users\\admin\\AppData\\Local\\Temp\\pip-req-build-azl67l0_'\n",
      "ERROR: Could not find a version that satisfies the requirement tensorflow==2.9.3 (from pykospacing) (from versions: 2.12.0rc0)\n",
      "ERROR: No matching distribution found for tensorflow==2.9.3\n"
     ]
    }
   ],
   "source": []
  },
  {
   "cell_type": "code",
   "execution_count": 47,
   "metadata": {},
   "outputs": [
    {
     "name": "stdout",
     "output_type": "stream",
     "text": [
      "Requirement already satisfied: konlpy in c:\\users\\admin\\appdata\\local\\programs\\python\\python311\\lib\\site-packages (0.6.0)\n",
      "Requirement already satisfied: JPype1>=0.7.0 in c:\\users\\admin\\appdata\\local\\programs\\python\\python311\\lib\\site-packages (from konlpy) (1.4.1)\n",
      "Requirement already satisfied: lxml>=4.1.0 in c:\\users\\admin\\appdata\\local\\programs\\python\\python311\\lib\\site-packages (from konlpy) (4.9.2)\n",
      "Requirement already satisfied: numpy>=1.6 in c:\\users\\admin\\appdata\\local\\programs\\python\\python311\\lib\\site-packages (from konlpy) (1.24.1)\n",
      "Requirement already satisfied: packaging in c:\\users\\admin\\appdata\\roaming\\python\\python311\\site-packages (from JPype1>=0.7.0->konlpy) (23.0)\n",
      "Note: you may need to restart the kernel to use updated packages.\n"
     ]
    }
   ],
   "source": [
    "pip install konlpy"
   ]
  },
  {
   "cell_type": "code",
   "execution_count": 62,
   "metadata": {},
   "outputs": [],
   "source": [
    "import time\n",
    "from openpyxl import Workbook\n",
    "import pandas as pd\n",
    "from bs4 import BeautifulSoup\n",
    "#\n",
    "from selenium.webdriver.common.by import By\n",
    "from selenium.webdriver.common.keys import Keys\n",
    "#chrome driver 링크 연결 없이 바로 하는 법\n",
    "#%pip install webdriver-manager (install받아야함)\n",
    "from selenium import webdriver\n",
    "from selenium.webdriver.chrome.service import Service\n",
    "from selenium.webdriver.chrome.options import Options\n",
    "from webdriver_manager.chrome import ChromeDriverManager\n",
    "\n",
    "#문자열에서 특수문자 제거\n",
    "import re\n",
    "#자동으로 엑셀 파일 열기위함(^^)\n",
    "import openpyxl\n",
    "#경고메세지 지워줌\n",
    "import warnings \n",
    "warnings.filterwarnings('ignore')\n",
    "\n",
    "#전처리\n",
    "import konlpy\n",
    "from konlpy.tag import Twitter"
   ]
  },
  {
   "cell_type": "code",
   "execution_count": 38,
   "metadata": {},
   "outputs": [],
   "source": [
    "#엑셀 시트 생성\n",
    "wb = Workbook(write_only=True)\n",
    "ws = wb.create_sheet()\n"
   ]
  },
  {
   "cell_type": "code",
   "execution_count": 63,
   "metadata": {},
   "outputs": [],
   "source": [
    "#크롬드라이버 링크 연결\n",
    "# path='C:\\chromedriver_win32\\chromedriver.exe'\n",
    "# driver= webdriver.Chrome(path) ->\n",
    "driver = webdriver.Chrome(service=Service(ChromeDriverManager().install()), options=Options())\n",
    "\n",
    "#스크롤 시 풀 스크린으로 켜지게되면 우측에 '추천영상' 때문에 댓글보다 더 스크롤이 내려가게 됨\n",
    "#하프 사이즈의 스크린으로 켜게 되면 추천영상이 일정이상 새로고침되지 않음 \n",
    "driver.set_window_size(800, 1100)\n",
    "#이 상태에서는 링크창에 data;,라고 적힌채로 대기상태에 들어감"
   ]
  },
  {
   "cell_type": "code",
   "execution_count": 64,
   "metadata": {},
   "outputs": [],
   "source": [
    "\n",
    "#1. 검색어 입력받기\n",
    "search=input()\n",
    "driver.implicitly_wait(3)\n",
    "\n",
    "\n",
    "#2. 유튜브 실행\n",
    "driver.get(\"https://www.youtube.com\")\n",
    "#3초안에 웹페이지를 로딩하면 바로넘어가거나, 3초를 기다림\n",
    "driver.implicitly_wait(3)\n",
    "\n",
    "#get(링크)로 안하고 이것만 실행하면\n",
    "#현재 페이지에 합쳐진다!!!\n",
    "\n",
    "######검색#######\n",
    "\n",
    "\n",
    "#3. 검색어 send\n",
    "#ID,CLASS_NAME으로 하면 send가 안되거나 click조차 안될때가 있었음\n",
    "#NAME으로 하면 둘 다 해결됨 이유는 모름?\n",
    "search_text=driver.find_element(By.NAME,'search_query')\n",
    "\n",
    "#로딩이 다 안됐기때문에 1초 기다려줌\n",
    "driver.implicitly_wait(1)\n",
    "# time.sleep(1)\n",
    "\n",
    "#4. 검색어 전송\n",
    "search_text.send_keys(search+\" -Shorts\")\n",
    "driver.implicitly_wait(5)\n",
    "\n",
    "#검색버튼 누르기\n",
    "# search_btn=driver.find_element(By.CLASS_NAME,'style-scope.ytd-searchbox')\n",
    "# search_btn.click()\n",
    "# driver.implicitly_wait(3)\n",
    "\n",
    "#5. 검색(엔터 누르기)\n",
    "search_text.send_keys(Keys.ENTER)"
   ]
  },
  {
   "cell_type": "code",
   "execution_count": null,
   "metadata": {},
   "outputs": [],
   "source": [
    "######영상 선정######\n",
    "id='dismissible'\n",
    "\n"
   ]
  },
  {
   "cell_type": "code",
   "execution_count": null,
   "metadata": {},
   "outputs": [],
   "source": []
  },
  {
   "cell_type": "code",
   "execution_count": 65,
   "metadata": {},
   "outputs": [],
   "source": [
    "######스크롤하기######\n",
    "#댓글 전체 스크랩하기 위해\n",
    "\n",
    "#275개의 댓글 >> 23.5s , 23.2s , 24.0s 23~24s\n",
    "\n",
    "\n",
    "#화면 최하단으로 스크롤 이동 : scrollTo(0, document.body.scrollHeight)\n",
    "#자바 스크립트 문법 >execute_script(자바스크립트를 실행) > scrollTo\n",
    "\n",
    "#window.scrollTo(x-좌표, y-좌표)\n",
    "#시작위치지정(댓글창이 시작되는 위치)\n",
    "#화면사이즈를 반으로 줄이고나니 스크롤을 끝까지 내린 후에 댓글이 생김\n",
    "driver.execute_script(\"window.scrollTo(0, document.documentElement.scrollHeight)\")\n",
    "driver.implicitly_wait(10)\n",
    "\n",
    "#스크롤 이전 높이\n",
    "#화면 바깥으로 삐져나간 부분까지 포함해서 전체 글의 길이를 scrollHeight\n",
    "last_height = driver.execute_script(\"return document.documentElement.scrollHeight\")\n",
    "\n",
    "while True:\n",
    "    #스크롤의 y좌표를 가장아래(scrollHeight)까지 내림\n",
    "    driver.execute_script(\"window.scrollTo(0, document.documentElement.scrollHeight);\")\n",
    "    driver.ex\n",
    "\n",
    "    #스크롤 후 높이 구하기\n",
    "    new_height = driver.execute_script(\"return document.documentElement.scrollHeight\")\n",
    "    #끝까지 스크롤 한 뒤 멈추기\n",
    "    if new_height == last_height:\n",
    "        break\n",
    "    last_height = new_height\n",
    "\n",
    "driver.implicitly_wait(1.5)\n"
   ]
  },
  {
   "cell_type": "code",
   "execution_count": 6,
   "metadata": {},
   "outputs": [],
   "source": [
    "######유튜브 팝업 닫기######\n",
    "\n",
    "#find_element_by_css_selector는 과거의 속성 find_element를 쓰는게 나음\n",
    "try:\n",
    "    driver.find_element(By.CSS_SELECTOR,\"#dismiss-button > a\").click()\n",
    "except:\n",
    "    pass"
   ]
  },
  {
   "cell_type": "code",
   "execution_count": 60,
   "metadata": {},
   "outputs": [],
   "source": [
    "######대댓글 토글 열기######\n",
    "# replies = driver.find_element(By.CSS_SELECTOR,\"#more-replies > a\")\n",
    "# replies = driver.find_elements(By.CSS_SELECTOR,\"#more-replies>a\")\n",
    "\n",
    "#find_elements < 무려 s를 안해서틀렸었음 하하 \n",
    "replies = driver.find_elements(By.CLASS_NAME,\"more-button\")\n",
    "\n",
    "time.sleep(1)\n",
    "\n",
    "for reply in replies:\n",
    "    #click도 안됨 send_keys도 안됨\n",
    "    driver.execute_script(\"arguments[0].click();\", reply)\n",
    "    time.sleep(1.5) \n",
    "\n",
    "# reply.click()\n",
    "# reply.send_keys(Keys.ENTER)\n",
    "# 이거 안됨 스크립트로 해결함 근데 11분 18초 걸림!!!!! 댓글 275개에\n",
    "# 댓글 106개 2m 50.2s\n"
   ]
  },
  {
   "cell_type": "code",
   "execution_count": 66,
   "metadata": {},
   "outputs": [
    {
     "name": "stdout",
     "output_type": "stream",
     "text": [
      "[[('1월', 'Number'), ('20일', 'Number'), ('트위치', 'Noun'), ('방송', 'Noun'), ('복귀', 'Noun'), ('도', 'Josa'), ('기대', 'Noun'), ('해주세요', 'Verb'), ('!', 'Punctuation'), ('\\r\\n', 'Foreign'), ('↓↓↓', 'Foreign'), ('\\r\\n', 'Foreign'), ('https://www.twitch.tv/du_gan', 'URL')], [('우', 'Adverb'), ('와우', 'Noun'), ('저', 'Noun'), ('~', 'Punctuation'), ('믹스', 'Noun'), ('했어요', 'Verb'), ('~', 'Punctuation'), ('두', 'Determiner'), ('간', 'Noun'), ('님', 'Suffix'), ('여름', 'Noun'), ('푸름', 'Adjective'), ('대박', 'Noun'), ('이다', 'Josa'), ('그냥', 'Noun'), ('한겨울', 'Noun'), ('을', 'Josa'), ('여름', 'Noun'), ('으로', 'Josa'), ('만', 'Noun'), ('들어줬어', 'Verb'), ('덥다', 'Adjective'), ('더워', 'Adjective')], [('두', 'Determiner'), ('간', 'Noun'), ('님', 'Suffix'), ('의', 'Josa'), ('시원시원한', 'Adjective'), ('목소리', 'Noun'), ('는', 'Josa'), ('늘', 'Noun'), ('새', 'Noun'), ('롭고', 'Josa'), ('기쁜', 'Adjective'), ('마음', 'Noun'), ('밖에', 'Josa'), ('없어요', 'Adjective'), ('.', 'Punctuation'), ('항상', 'Noun'), ('두', 'Determiner'), ('간', 'Noun'), ('님', 'Suffix'), ('노래', 'Noun'), ('도', 'Josa'), ('들으면서', 'Verb'), ('힘', 'Noun'), ('을', 'Josa'), ('엄청', 'Adverb'), ('받고는', 'Verb'), ('하는데', 'Verb'), ('이렇게', 'Adverb'), ('청량한', 'Adjective'), ('청춘', 'Noun'), ('여름', 'Noun'), ('곡', 'Noun'), ('을', 'Josa'), ('가지', 'Noun'), ('고', 'Josa'), ('오시다니', 'Verb'), ('겨울', 'Noun'), ('이어도', 'Noun'), ('너무', 'Adverb'), ('더워지는', 'Verb'), ('기분', 'Noun'), ('이에요', 'Josa'), ('..', 'Punctuation'), ('노래', 'Noun'), ('에서', 'Josa'), ('바다', 'Noun'), ('냄새', 'Noun'), ('나는건', 'Verb'), ('또', 'Noun'), ('새롭네요', 'Adjective'), ('일러스트', 'Noun'), ('도', 'Josa'), ('너무', 'Adverb'), ('좋고', 'Adjective'), ('예뻐요', 'Adjective'), ('.', 'Punctuation'), ('그래도', 'Adverb'), ('두', 'Determiner'), ('간', 'Noun'), ('님', 'Suffix'), ('이', 'Josa'), ('가장', 'Noun'), ('예쁘시고', 'Adjective'), ('멋져요', 'Adjective'), ('!', 'Punctuation'), ('듣는', 'Verb'), ('동안', 'Noun'), ('계속', 'Noun'), ('집중', 'Noun'), ('했는데', 'Verb'), ('한동안', 'Adverb'), ('계속', 'Noun'), ('듣겠네요', 'Verb'), (':))', 'Punctuation'), ('또', 'Noun'), ('오랜', 'Modifier'), ('만', 'Noun'), ('에', 'Josa'), ('발걸음', 'Noun'), ('해주셔서', 'Verb'), ('너무', 'Adverb'), ('기뻐요', 'Adjective'), ('.', 'Punctuation'), ('트위치', 'Noun'), ('방송', 'Noun'), ('도', 'Josa'), ('시간', 'Noun'), ('이', 'Josa'), ('걸려서', 'Verb'), ('계속', 'Noun'), ('못', 'Noun'), ('갔는데', 'Verb'), ('이번', 'Noun'), ('에는', 'Josa'), ('꼭', 'Noun'), ('봐야겠어요', 'Verb'), (',', 'Punctuation'), ('정말', 'Noun'), ('!', 'Punctuation'), ('너무', 'Adverb'), ('수고', 'Noun'), ('하셨고', 'Verb'), (',', 'Punctuation'), ('좋은', 'Adjective'), ('노래', 'Noun'), ('선사', 'Noun'), ('해주셔서', 'Verb'), ('감사', 'Noun'), ('드려요', 'Verb'), ('.', 'Punctuation'), ('항상', 'Noun'), ('응원', 'Noun'), ('해요', 'Verb'), (',', 'Punctuation'), ('두', 'Determiner'), ('간', 'Noun'), ('님', 'Suffix'), ('️', 'Foreign')], [('한겨울', 'Noun'), ('을', 'Josa'), ('그냥', 'Noun'), ('여름', 'Noun'), ('으로', 'Josa'), ('바꿔', 'Verb'), ('버리시네요', 'Verb'), ('...', 'Punctuation')], [('캬', 'Noun'), ('돌아오시는군요', 'Verb'), ('!!!', 'Punctuation'), ('고생', 'Noun'), ('많으셨습니다', 'Adjective'), ('.', 'Punctuation'), ('안', 'VerbPrefix'), ('들었는데도', 'Verb'), ('벌써', 'Noun'), ('좋을거', 'Adjective'), ('같네요', 'Adjective')], [('\"', 'Punctuation'), ('여름', 'Noun'), ('이었다', 'Verb'), ('\"', 'Punctuation')], [('두', 'Determiner'), ('간', 'Noun'), ('님', 'Suffix'), ('노래', 'Noun'), ('진짜', 'Noun'), ('너무', 'Adverb'), ('좋아요', 'Adjective'), ('저', 'Noun'), ('사', 'Noun'), ('클도', 'Verb'), ('맨날', 'Adverb'), ('들어요', 'Verb'), ('목소리', 'Noun'), ('사기', 'Noun'), ('노래실력', 'Noun'), ('사기', 'Noun'), ('🥹', 'Foreign')], [('최근', 'Noun'), ('에', 'Josa'), ('두', 'Determiner'), ('간', 'Noun'), ('님', 'Suffix'), ('생각', 'Noun'), ('하고', 'Josa'), ('있었는데', 'Adjective'), ('이렇게', 'Adverb'), ('나오는군요', 'Verb'), ('?', 'Punctuation'), ('ㅋㅋ', 'KoreanParticle'), ('그동안', 'Noun'), ('일본', 'Noun'), ('노래', 'Noun'), ('많이', 'Adverb'), ('들었는데', 'Verb'), ('전', 'Noun'), ('에', 'Josa'), ('몰랐던', 'Verb'), ('띵곡들', 'Noun'), ('을', 'Josa'), ('커버', 'Noun'), ('하셨더라고요', 'Verb'), ('이번', 'Noun'), ('에', 'Josa'), ('정', 'Noun'), ('주행', 'Noun'), ('갑니다', 'Verb')], [('무려', 'Noun'), ('3', 'Number'), ('주전', 'Noun'), ('에도', 'Josa'), ('나온', 'Verb'), ('곡', 'Noun'), ('도', 'Josa'), ('좋았는데', 'Adjective'), ('이번', 'Noun'), ('엔', 'Josa'), ('방송', 'Noun'), ('에서', 'Josa'), ('말', 'Noun'), ('하셨던', 'Verb'), ('푸름과', 'Adjective'), ('여름', 'Noun'), ('곡', 'Noun'), ('을', 'Josa'), ('불러주시다니', 'Verb'), ('그리고', 'Conjunction'), ('방송복귀', 'Noun'), ('까지', 'Josa'), ('해주시', 'Noun'), ('니', 'Josa'), ('진짜', 'Noun'), ('넘', 'Verb'), ('조아여', 'Adjective'), ('ㅠㅠ', 'KoreanParticle'), ('최초', 'Noun'), ('공개', 'Noun'), ('까지', 'Josa'), ('이틀', 'Noun'), ('을', 'Josa'), ('기다려야', 'Verb'), ('되다니', 'Verb'), ('또르', 'Noun'), ('륵', 'Noun'), (';', 'Punctuation'), ('ㅁ', 'KoreanParticle'), (';', 'Punctuation'), ('최초', 'Noun'), ('공개', 'Noun'), ('까지', 'Josa'), ('존버', 'Noun'), ('하겠습니다', 'Verb'), ('!!', 'Punctuation')], [('진짜', 'Noun'), ('청량해요', 'Adjective'), ('....', 'Punctuation'), ('아', 'Exclamation'), ('좋다', 'Adjective'), ('진짜', 'Noun'), ('ㅜㅜ', 'KoreanParticle')], [('夏らしい曲調と爽やかな歌声がすごく合ってて大好きです〜', 'Foreign'), ('!', 'Punctuation')], [('ㅠㅠㅠ', 'KoreanParticle'), ('진짜', 'Noun'), ('ㅠㅠㅠ', 'KoreanParticle'), ('언제', 'Noun'), ('들', 'Suffix'), ('어도', 'Noun'), ('진짜', 'Noun'), ('갓', 'Noun'), ('...', 'Punctuation'), ('🫢🫢', 'Foreign'), ('항상', 'Noun'), ('잘', 'VerbPrefix'), ('듣고', 'Verb'), ('있습니다', 'Adjective'), ('감사합니다', 'Verb')], [('완전', 'Noun'), ('청량', 'Noun'), ('그', 'Determiner'), ('자체', 'Noun'), ('...', 'Punctuation')], [('와', 'Verb'), ('..', 'Punctuation'), ('진짜', 'Noun'), ('좋다', 'Adjective'), ('..', 'Punctuation'), ('\\n', 'Foreign'), ('기다린', 'Verb'), ('보람', 'Noun'), ('이', 'Josa'), ('있음', 'Adjective'), ('ㅠ', 'KoreanParticle'), ('\\n', 'Foreign'), ('시원시원하니', 'Adjective'), ('너무', 'Adverb'), ('좋음', 'Adjective')], [('이', 'Determiner'), ('거', 'Noun'), ('제', 'Noun'), ('가', 'Josa'), ('너무', 'Adverb'), ('너무', 'Adverb'), ('너무', 'Adverb'), ('너무', 'Adverb'), ('너무', 'Adverb'), ('너무', 'Adverb'), ('너무', 'Adverb'), ('너무', 'Adverb'), ('좋아하는', 'Adjective'), ('....', 'Punctuation'), ('노래', 'Noun'), ('...', 'Punctuation'), ('예요', 'Josa'), ('흑', 'Adverb'), ('흑', 'Adverb'), ('..', 'Punctuation')], [('입덕', 'Noun'), ('이후', 'Noun'), ('로', 'Josa'), ('매일', 'Noun'), ('두', 'Determiner'), ('간', 'Noun'), ('님', 'Suffix'), ('플레이', 'Noun'), ('리스트', 'Noun'), ('따로', 'Adverb'), ('만들어', 'Verb'), ('들으면서', 'Verb'), ('신곡', 'Noun'), ('만', 'Josa'), ('기다렸어요', 'Verb'), ('ㅠㅠㅠ', 'KoreanParticle')], [('바쁜', 'Adjective'), ('현생', 'Noun'), ('에도', 'Josa'), ('잊지', 'Verb'), ('않고', 'Verb'), ('돌아와주신', 'Verb'), ('두', 'Determiner'), ('간', 'Noun'), ('님', 'Suffix'), ('대환영', 'Noun'), ('\\n', 'Foreign'), ('노래', 'Noun'), ('완전', 'Noun'), ('청춘', 'Noun'), ('그', 'Determiner'), ('자체', 'Noun'), ('네', 'Suffix'), ('요', 'Josa'), ('ㅎ', 'KoreanParticle'), ('매번', 'Noun'), ('덕분', 'Noun'), ('에', 'Josa'), ('좋은', 'Adjective'), ('노래', 'Noun'), ('알', 'Noun'), ('아', 'Josa'), ('갑니다', 'Verb')], [('기분', 'Noun'), ('안', 'Noun'), ('좋았는데', 'Adjective'), ('너무', 'Adverb'), ('시원한', 'Adjective'), ('일러랑', 'Verb'), ('영상', 'Noun'), ('에', 'Josa'), ('시원한', 'Adjective'), ('노래', 'Noun'), ('까지', 'Josa'), ('진짜', 'Noun'), ('정신', 'Noun'), ('정화', 'Noun'), ('됬어요', 'Verb'), ('감사합니다', 'Verb')], [('두', 'Determiner'), ('간', 'Noun'), ('님', 'Noun'), ('의', 'Josa'), ('시원시원한', 'Adjective'), ('보컬', 'Noun'), ('이랑', 'Josa'), ('이', 'Noun'), ('곡', 'Noun'), ('이', 'Josa'), ('너무', 'Adverb'), ('잘', 'Verb'), ('어울려요', 'Verb'), ('<', 'Punctuation'), ('3', 'Number')], [('와', 'Verb'), ('..', 'Punctuation'), ('역시', 'Noun'), ('두', 'Determiner'), ('간', 'Noun'), ('님', 'Suffix'), ('최고', 'Noun'), ('예요', 'Josa'), ('....', 'Punctuation'), ('미쳤다', 'Adjective')], [('두', 'Determiner'), ('간', 'Noun'), ('님', 'Suffix'), ('정말', 'Noun'), ('보고', 'Noun'), ('싶었어요', 'Verb'), ('ㅠㅠ', 'KoreanParticle'), ('이번', 'Noun'), ('노래', 'Noun'), ('도', 'Josa'), ('너무', 'Adverb'), ('너무', 'Adverb'), ('기대하고', 'Adjective'), ('있어요', 'Adjective'), ('!!', 'Punctuation'), ('진짜', 'Noun'), ('항상', 'Noun'), ('언제', 'Noun'), ('까지나', 'Josa'), ('노래', 'Noun'), ('불러주셔야', 'Verb'), ('해', 'Noun'), ('요', 'Josa'), ('ㅠㅠ', 'KoreanParticle')], [('青と夏', 'Foreign'), ('을', 'Josa'), ('여러', 'Modifier'), ('번', 'Noun'), ('들어', 'Verb'), ('봤지만', 'Verb'), ('\\n', 'Foreign'), ('한국', 'Noun'), ('분', 'Suffix'), ('커버', 'Noun'), ('중', 'Suffix'), ('에', 'Josa'), ('최고', 'Noun'), ('입니다', 'Adjective'), ('.', 'Punctuation')], [('노래', 'Noun'), ('도', 'Josa'), ('좋고', 'Adjective'), ('두', 'Determiner'), ('간', 'Noun'), ('님', 'Suffix'), ('음색', 'Noun'), ('도', 'Josa'), ('좋고', 'Adjective'), ('노래', 'Noun'), ('를', 'Josa'), ('하고', 'Verb'), ('유튜브', 'Noun'), ('를', 'Josa'), ('해주셔서', 'Verb'), ('정말', 'Noun'), ('감사합니다', 'Verb')], [('청량', 'Noun'), ('그', 'Noun'), ('자체', 'Noun'), ('ㅠㅠㅠㅠㅠ', 'KoreanParticle')], [('말로', 'Noun'), ('형용', 'Noun'), ('할', 'Verb'), ('수', 'Noun'), ('없을', 'Adjective'), ('만큼', 'Noun'), ('좋아서', 'Adjective'), ('댓글', 'Noun'), ('을', 'Josa'), ('지웠다가', 'Verb'), ('쓰기', 'Noun'), ('만', 'Josa'), ('반복', 'Noun'), ('하다가', 'Verb'), ('이제야', 'Noun'), ('남기네요', 'Verb'), ('!', 'Punctuation'), ('항상', 'Noun'), ('멋진', 'Adjective'), ('곡', 'Noun'), ('을', 'Josa'), ('멋진', 'Adjective'), ('목소리', 'Noun'), ('로', 'Josa'), ('불러주셔서', 'Verb'), ('감사', 'Noun'), ('드립니다', 'Verb'), ('!', 'Punctuation'), ('일러도', 'Verb'), ('영상', 'Noun'), ('도', 'Josa'), ('믹스', 'Noun'), ('도', 'Josa'), ('다', 'Adverb'), ('좋아요', 'Adjective'), ('~', 'Punctuation'), ('여름', 'Noun'), ('이', 'Josa'), ('오면', 'Verb'), ('더', 'Noun'), ('더욱', 'Noun'), ('생각날', 'Verb'), ('것', 'Noun'), ('같은', 'Adjective'), ('노래네요', 'Adjective'), ('!', 'Punctuation'), ('현생', 'Noun'), ('때문', 'Noun'), ('에', 'Josa'), ('방송', 'Noun'), ('챙겨', 'Verb'), ('보기', 'Noun'), ('힘들어졌지만', 'Adjective'), ('항상', 'Noun'), ('두', 'Determiner'), ('간', 'Noun'), ('님', 'Suffix'), ('을', 'Josa'), ('응원', 'Noun'), ('하고', 'Josa'), ('있어요', 'Adjective'), ('!!', 'Punctuation')], [('와', 'Verb'), ('..', 'Punctuation'), ('두', 'Determiner'), ('간', 'Noun'), ('님', 'Suffix'), ('이번', 'Noun'), ('노래', 'Noun'), ('도', 'Josa'), ('최곱니댜', 'Noun'), ('!!!!', 'Punctuation'), ('좋아요', 'Adjective'), ('!!!!!!!!!', 'Punctuation')], [('노래', 'Noun'), ('너무', 'Adverb'), ('좋아요', 'Adjective'), ('!!', 'Punctuation'), ('새해', 'Noun'), ('복', 'Noun'), ('많이', 'Adverb'), ('받으세요', 'Verb')], [('두', 'Determiner'), ('간', 'Noun'), ('님', 'Suffix'), ('...', 'Punctuation'), ('제', 'Noun'), ('가', 'Josa'), ('두', 'Determiner'), ('간', 'Noun'), ('님', 'Suffix'), ('노래', 'Noun'), ('를', 'Josa'), ('우연찮', 'Noun'), ('게', 'Josa'), ('듣고', 'Verb'), ('바로', 'Noun'), ('유튜브', 'Noun'), ('프리미엄', 'Noun'), ('을', 'Josa'), ('질러서', 'Verb'), ('어느', 'Adverb'), ('새', 'Noun'), ('꽤', 'Noun'), ('오랜', 'Adverb'), ('시간', 'Noun'), ('이', 'Josa'), ('지났는데요', 'Verb'), ('...', 'Punctuation'), ('오늘', 'Noun'), ('도', 'Josa'), ('유튜브', 'Noun'), ('프리미엄', 'Noun'), ('야무지게', 'Adjective'), ('쓰고', 'Verb'), ('갑니다', 'Verb'), ('...', 'Punctuation'), ('바로', 'Noun'), ('유튜브', 'Noun'), ('뮤직', 'Noun'), ('플레이', 'Noun'), ('리스트', 'Noun'), ('에', 'Josa'), ('넣었어요', 'Verb'), ('ㅠㅠ', 'KoreanParticle'), ('잘', 'Verb'), ('듣고', 'Verb'), ('갑니다', 'Verb'), ('ㅠㅠ', 'KoreanParticle')], [('이', 'Noun'), ('노래', 'Noun'), ('청량해서', 'Adjective'), ('원래', 'Noun'), ('도', 'Josa'), ('좋아했는데', 'Adjective'), ('두', 'Determiner'), ('간', 'Noun'), ('님', 'Suffix'), ('목소리', 'Noun'), ('에', 'Josa'), ('시원한', 'Adjective'), ('고음', 'Noun'), ('이', 'Josa'), ('있는', 'Adjective'), ('커버', 'Noun'), ('곡', 'Noun'), ('진짜', 'Noun'), ('너무', 'Adverb'), ('좋아요', 'Adjective'), ('..', 'Punctuation'), ('유명한', 'Adjective'), ('노래', 'Noun'), ('인', 'Josa'), ('만큼', 'Noun'), ('친구', 'Noun'), ('들', 'Suffix'), ('에게', 'Josa'), ('열심히', 'Adverb'), ('영', 'Modifier'), ('입', 'Noun'), ('해보겠습니다', 'Verb'), ('정말', 'Noun'), ('너무', 'Adverb'), ('잘', 'Verb'), ('들었습니다', 'Verb'), ('플리', 'Noun'), ('에', 'Josa'), ('이노', 'Noun'), ('래', 'Josa'), ('추가', 'Noun'), ('해놓고', 'Verb'), ('계속', 'Noun'), ('듣겠군요', 'Verb')], [('와', 'Verb'), ('제', 'Noun'), ('가', 'Josa'), ('정말', 'Noun'), ('좋아하는노', 'Adjective'), ('랜데', 'Noun'), ('><', 'Punctuation'), (')/', 'Punctuation'), ('커버', 'Noun'), ('해주셔서', 'Verb'), ('감사해요', 'Verb'), ('!', 'Punctuation')], [('역시', 'Noun'), ('믿고', 'Verb'), ('듣는', 'Verb'), ('두', 'Determiner'), ('간', 'Noun'), ('님', 'Suffix'), ('...', 'Punctuation'), ('제', 'Noun'), ('게', 'Josa'), ('여름', 'Noun'), ('이', 'Josa'), ('벌써', 'Noun'), ('온', 'Noun'), ('것', 'Noun'), ('같아요', 'Adjective'), ('...', 'Punctuation')], [('제', 'Noun'), ('가', 'Josa'), ('즐겨', 'Verb'), ('듣는', 'Verb'), ('노래', 'Noun'), ('인데', 'Josa'), ('이렇게', 'Adverb'), ('불러주시다니', 'Verb'), ('..', 'Punctuation'), ('앞', 'Noun'), ('으로', 'Josa'), ('잘', 'Verb'), ('듣겠습니다', 'Verb')], [('오우', 'Noun'), ('씨', 'Noun'), ('이이이', 'Noun'), ('잇', 'Verb'), ('뭐', 'Noun'), ('야', 'Josa'), ('두', 'Determiner'), ('간', 'Noun'), ('님', 'Suffix'), ('개', 'Noun'), ('쩔잖아요', 'Verb'), ('ㅠㅠ', 'KoreanParticle'), ('바쁘신', 'Adjective'), ('와중', 'Noun'), ('에', 'Josa'), ('돌아와', 'Verb'), ('노래', 'Noun'), ('불러주신', 'Verb'), ('두', 'Determiner'), ('간', 'Noun'), ('님', 'Suffix'), ('항상', 'Noun'), ('감사합니다', 'Verb'), ('ㅠㅠ', 'KoreanParticle')], [('으아아', 'Exclamation'), ('악', 'Exclamation'), ('겨울', 'Noun'), ('에', 'Josa'), ('듣는', 'Verb'), ('여름', 'Noun'), ('청춘', 'Noun'), ('밴드', 'Noun'), ('곡', 'Noun'), ('너무', 'Adverb'), ('좋아요', 'Adjective'), ('!!!', 'Punctuation'), ('두', 'Determiner'), ('간', 'Noun'), ('님', 'Suffix'), ('은', 'Josa'), ('신', 'Noun'), ('이다', 'Josa'), ('~!!!!!!', 'Punctuation')], [('두', 'Determiner'), ('간', 'Noun'), ('님', 'Suffix'), ('목소리', 'Noun'), ('에', 'Josa'), ('너무', 'Adverb'), ('너무', 'Adverb'), ('잘', 'VerbPrefix'), ('어울리는', 'Verb'), ('노래', 'Noun'), ('를', 'Josa'), ('들고오셨네요', 'Verb'), ('ㅠㅠㅠㅠㅠㅠㅠㅠㅠㅠㅠㅠ', 'KoreanParticle'), ('찰떡', 'Noun'), ('인', 'Josa'), ('노래', 'Noun'), ('에', 'Josa'), ('찰떡', 'Noun'), ('인', 'Josa'), ('일러스트', 'Noun'), ('까지', 'Josa'), ('진짜', 'Noun'), ('너무', 'Adverb'), ('최고', 'Noun'), ('예요', 'Josa'), ('ㅠㅠ', 'KoreanParticle'), ('방송', 'Noun'), ('복귀', 'Noun'), ('도', 'Josa'), ('축하', 'Noun'), ('드리고', 'Verb'), ('노래', 'Noun'), ('도', 'Josa'), ('감사합니다', 'Verb'), ('~!!!!!!!~!!', 'Punctuation')], [('두', 'Determiner'), ('간', 'Noun'), ('님', 'Suffix'), ('노래', 'Noun'), ('자체', 'Noun'), ('가', 'Josa'), ('청량함이고', 'Adjective'), ('녹음', 'Noun'), ('이니까', 'Josa'), ('오늘', 'Noun'), ('부터', 'Josa'), ('여름', 'Noun'), ('이다', 'Josa'), ('반', 'Modifier'), ('팔', 'Noun'), ('꺼내야지', 'Verb'), ('~', 'Punctuation')], [('와', 'Verb'), ('이', 'Noun'), ('노래', 'Noun'), ('를', 'Josa'), ('두', 'Determiner'), ('간', 'Noun'), ('님', 'Suffix'), ('목소리', 'Noun'), ('로', 'Josa'), ('듣다니', 'Verb'), ('....', 'Punctuation'), ('홀리', 'Noun')], [('이', 'Noun'), ('노래', 'Noun'), ('들으니까', 'Verb'), ('두', 'Determiner'), ('간', 'Noun'), ('님', 'Suffix'), ('좋아하던', 'Adjective'), ('제', 'Noun'), ('학창시절', 'Noun'), ('한', 'Determiner'), ('페이지', 'Noun'), ('씩', 'Suffix'), ('넘겨보는', 'Verb'), ('거', 'Noun'), ('같고', 'Adjective'), ('..', 'Punctuation'), ('진짜', 'Noun'), ('첫사랑', 'Noun'), ('이었다', 'Verb'), ('.', 'Punctuation')], [('제', 'Noun'), ('가', 'Josa'), ('제일', 'Noun'), ('좋아하는', 'Adjective'), ('밴드', 'Noun'), ('의', 'Josa'), ('제일', 'Noun'), ('좋아하는', 'Adjective'), ('곡', 'Noun'), ('을', 'Josa'), ('제일', 'Noun'), ('좋아하는', 'Adjective'), ('두', 'Determiner'), ('간', 'Noun'), ('님', 'Suffix'), ('이', 'Josa'), ('커버', 'Noun'), ('라니', 'Josa'), ('...', 'Punctuation'), ('전', 'Noun'), ('정말', 'Noun'), ('죽어도', 'Verb'), ('여한', 'Noun'), ('이', 'Josa'), ('없어요', 'Adjective'), ('...', 'Punctuation'), ('이', 'Noun'), ('날', 'Noun'), ('을', 'Josa'), ('위해', 'Noun'), ('살아온', 'Verb'), ('나를', 'Verb'), ('위해', 'Noun'), ('치얼스', 'Noun'), ('...', 'Punctuation'), ('여름', 'Noun'), ('바람', 'Noun'), ('해돋이', 'Noun'), ('투고', 'Noun'), ('때', 'Noun'), ('부터', 'Josa'), ('정말', 'Noun'), ('꾸준히', 'Adjective'), ('지켜보고', 'Verb'), ('좋아했어요', 'Adjective'), ('...', 'Punctuation'), ('색다른', 'Adjective'), ('두', 'Determiner'), ('간', 'Noun'), ('님', 'Suffix'), ('의', 'Josa'), ('여름', 'Noun'), ('을', 'Josa'), ('맛본', 'Verb'), ('것', 'Noun'), ('같아서', 'Adjective'), ('너무', 'Adverb'), ('너무', 'Adverb'), ('기쁩니다', 'Adjective'), ('...', 'Punctuation'), ('트위치', 'Noun'), ('방송', 'Noun'), ('복귀', 'Noun'), ('도', 'Josa'), ('꼭', 'Noun'), ('챙길게요', 'Verb'), ('!!!', 'Punctuation'), ('ㅜㅜ', 'KoreanParticle')], [('아', 'Exclamation'), ('ㅠㅠㅠㅠㅠㅠ', 'KoreanParticle'), ('뭐', 'Noun'), ('야', 'Josa'), ('...', 'Punctuation'), ('아직', 'Adverb'), ('안', 'Noun'), ('들어', 'Verb'), ('봤는데', 'Verb'), ('벌써', 'Noun'), ('좋아', 'Adjective')], [('금요일', 'Noun'), ('이', 'Josa'), ('너무', 'Adverb'), ('기대', 'Noun'), ('됩니다', 'Verb'), ('\\n', 'Foreign'), ('이번', 'Noun'), ('에도', 'Josa'), ('청량하고', 'Adjective'), ('진짜', 'Noun'), ('딱', 'Adverb'), ('두', 'Determiner'), ('간', 'Noun'), ('님', 'Suffix'), ('이랑', 'Josa'), ('찰떡', 'Noun'), ('인', 'Josa'), ('커버', 'Noun'), ('️', 'Foreign')], [('뭐', 'Noun'), ('야', 'Josa'), ('ㅠ', 'KoreanParticle'), ('한겨울', 'Noun'), ('에', 'Josa'), ('느끼는', 'Verb'), ('두간넴', 'Noun'), ('의', 'Josa'), ('청량감', 'Noun'), ('이란', 'Josa'), ('...', 'Punctuation'), ('\\n', 'Foreign'), ('진짜', 'Noun'), ('최', 'Noun'), ('고라구요', 'Verb'), ('광광', 'Adverb')], [('진짜', 'Noun'), ('두', 'Determiner'), ('간', 'Noun'), ('님', 'Suffix'), ('목소리', 'Noun'), ('가', 'Josa'), ('너무', 'Adverb'), ('좋네요', 'Adjective'), ('^^', 'Punctuation'), ('간드러지는', 'Adjective'), ('두', 'Determiner'), ('간', 'Noun'), ('님', 'Suffix'), ('노래', 'Noun'), ('계속', 'Noun'), ('듣고', 'Verb'), ('싶어요', 'Verb'), ('~!!', 'Punctuation'), ('이번', 'Noun'), ('커버', 'Noun'), ('도', 'Josa'), ('너무', 'Adverb'), ('좋습니다', 'Adjective'), ('~!', 'Punctuation')], [('두', 'Determiner'), ('간', 'Noun'), ('님', 'Suffix'), ('의', 'Josa'), ('또', 'Noun'), ('다른', 'Noun'), ('커버', 'Noun'), ('라니', 'Josa'), ('..!', 'Punctuation'), ('일러스트', 'Noun'), ('부터가', 'Josa'), ('너무', 'Adverb'), ('맘', 'Noun'), ('에', 'Josa'), ('드네', 'Noun'), ('요', 'Josa'), ('ㅠㅠ', 'KoreanParticle'), ('이번', 'Noun'), ('에도', 'Josa'), ('잘', 'Verb'), ('듣도록', 'Verb'), ('하겠습니다', 'Verb'), ('!', 'Punctuation')], [('사랑', 'Noun'), ('합니다', 'Verb'), (',', 'Punctuation'), ('사랑', 'Noun'), ('합니다', 'Verb'), ('ㅠㅠ', 'KoreanParticle'), ('엄청', 'Adverb'), ('기다렸어요', 'Verb'), ('!!', 'Punctuation'), ('한동안', 'Adverb'), ('이', 'Noun'), ('노래', 'Noun'), ('만', 'Josa'), ('계속', 'Noun'), ('반복', 'Noun'), ('해서', 'Verb'), ('들을', 'Verb'), ('예정', 'Noun'), ('..', 'Punctuation'), ('♡', 'Foreign')], [('갓', 'Modifier'), ('두', 'Modifier'), ('간', 'Noun'), ('진짜', 'Noun'), ('ㅠㅠㅠ', 'KoreanParticle'), ('이제', 'Noun'), (\"'\", 'Punctuation'), ('그', 'Noun'), (\"'\", 'Punctuation'), ('만', 'Noun'), ('사랑', 'Noun'), ('하고싶습니다', 'Verb'), ('ㅠㅠ', 'KoreanParticle')], [('끝음', 'Noun'), ('처리', 'Noun'), ('환상', 'Noun'), ('적', 'Suffix'), ('...', 'Punctuation')], [('항상', 'Noun'), ('매번', 'Noun'), ('생각', 'Noun'), ('하고', 'Josa'), ('말', 'Noun'), ('하는', 'Verb'), ('거지', 'Noun'), ('만', 'Josa'), ('두', 'Determiner'), ('간', 'Noun'), ('님', 'Suffix'), ('이', 'Josa'), ('부르신', 'Verb'), ('곡', 'Noun'), ('을', 'Josa'), ('듣고', 'Verb'), ('난', 'Noun'), ('후', 'Noun'), ('로부터', 'Noun'), ('는', 'Josa'), ('저', 'Noun'), ('는', 'Josa'), ('..', 'Punctuation'), ('두', 'Determiner'), ('간', 'Noun'), ('님', 'Suffix'), ('이', 'Josa'), ('아니면', 'Adjective'), ('만족할', 'Adjective'), ('수가', 'Noun'), ('없게', 'Adjective'), ('되는', 'Verb'), ('경지', 'Noun'), ('에', 'Josa'), ('이르', 'Verb'), ('렀습', 'Noun'), ('니', 'Josa'), ('다', 'Adverb'), ('.....', 'Punctuation'), ('이렇게', 'Adverb'), ('안타까운', 'Adjective'), ('저', 'Noun'), ('를', 'Josa'), ('봐', 'Verb'), ('서라도', 'Verb'), ('부디', 'Noun'), ('..', 'Punctuation'), ('그래도', 'Adverb'), ('..', 'Punctuation'), ('가능한', 'Adjective'), ('!!', 'Punctuation'), ('70', 'Number'), ('살', 'Noun'), ('까지라도', 'Josa'), ('계속', 'Noun'), ('해서', 'Verb'), ('노래', 'Noun'), ('를', 'Josa'), ('부러', 'Noun'), ('주심', 'Noun'), ('은', 'Josa'), ('어떠하신지요', 'Adjective'), ('..?', 'Punctuation'), ('진심', 'Noun'), ('을', 'Josa'), ('담아서', 'Verb'), ('간청', 'Noun'), ('드리옵니다', 'Verb'), ('요', 'Noun'), ('....', 'Punctuation'), ('두', 'Determiner'), ('간', 'Noun'), ('님', 'Suffix'), ('두', 'Determiner'), ('간', 'Noun'), ('님', 'Suffix'), ('은', 'Josa'), ('사람', 'Noun'), ('이', 'Josa'), ('아닙니다요', 'Adjective'), ('...', 'Punctuation'), ('제', 'Noun'), ('가', 'Josa'), ('이런', 'Adjective'), ('말', 'Noun'), ('은', 'Josa'), ('진짜', 'Noun'), ('안', 'Noun'), ('하는데', 'Verb'), ('혹시', 'Noun'), ('두', 'Determiner'), ('간', 'Noun'), ('님', 'Suffix'), ('..?', 'Punctuation'), ('천', 'Modifier'), ('사이', 'Modifier'), ('신지', 'Noun'), ('요', 'Josa'), ('..?', 'Punctuation'), ('두', 'Determiner'), ('간', 'Noun'), ('님', 'Suffix'), ('의', 'Josa'), ('이', 'Noun'), ('아', 'Exclamation'), ('.', 'Punctuation'), ('리', 'Noun'), ('.', 'Punctuation'), ('따', 'Verb'), ('.', 'Punctuation'), ('운', 'Noun'), ('.', 'Punctuation'), ('목소리', 'Noun'), ('는', 'Josa'), ('천사', 'Noun'), ('가', 'Josa'), ('아닌', 'Adjective'), ('이상', 'Noun'), ('낼', 'Noun'), ('수', 'Noun'), ('없고', 'Adjective'), ('있을', 'Adjective'), ('수도', 'Noun'), ('없', 'Adjective'), ('.', 'Punctuation'), ('는', 'Verb'), ('.', 'Punctuation'), ('목소리', 'Noun'), ('입니다', 'Adjective'), ('.....', 'Punctuation'), ('한', 'Verb'), ('번', 'Noun'), ('말', 'Noun'), ('을', 'Josa'), ('하니', 'Noun'), ('자꾸', 'Noun'), ('길어지네요', 'Verb'), ('....', 'Punctuation'), ('그', 'Determiner'), ('정도', 'Noun'), ('로', 'Josa'), ('두', 'Determiner'), ('간', 'Noun'), ('님', 'Suffix'), ('의', 'Josa'), ('목소리', 'Noun'), ('....', 'Punctuation'), ('하', 'Exclamation'), ('ㅠㅠ', 'KoreanParticle'), ('사랑', 'Noun'), ('합니다', 'Verb'), ('ㅠㅠㅠ', 'KoreanParticle'), ('두', 'Determiner'), ('간', 'Noun'), ('님', 'Suffix'), ('과', 'Josa'), ('같은', 'Adjective'), ('세계', 'Noun'), ('와', 'Josa'), ('같은', 'Adjective'), ('시대', 'Noun'), ('에서', 'Josa'), ('살아가는', 'Verb'), ('것', 'Noun'), ('만으로도', 'Josa'), ('영광', 'Noun'), ('스러워', 'Adjective'), ('가슴', 'Noun'), ('이', 'Josa'), ('벅찬데', 'Adjective'), ('노래', 'Noun'), ('까지', 'Josa'), ('불러주시다니', 'Verb'), ('그저', 'Adverb'), ('영광', 'Noun'), ('또', 'Noun'), ('영광', 'Noun'), ('이', 'Josa'), ('옵니다', 'Verb'), ('....', 'Punctuation'), ('정말', 'Noun'), ('마지막', 'Noun'), ('으로', 'Josa'), ('...', 'Punctuation'), ('두', 'Determiner'), ('간', 'Noun'), ('님', 'Suffix'), ('....', 'Punctuation'), ('사랑', 'Noun'), ('하고요', 'Verb'), ('또', 'Noun'), ('앞', 'Noun'), ('으로', 'Josa'), ('평생', 'Noun'), ('노래', 'Noun'), ('불러주실', 'Verb'), ('거', 'Noun'), ('죠', 'Josa'), ('....?', 'Punctuation')], [('역시', 'Noun'), ('목소리', 'Noun'), ('로', 'Josa'), ('홀리', 'Noun'), ('는', 'Josa'), ('남자', 'Noun'), ('….', 'Punctuation'), ('치명', 'Noun'), ('적', 'Suffix'), ('..', 'Punctuation')], [('믿고', 'Verb'), ('듣는', 'Verb'), ('두', 'Determiner'), ('간', 'Noun'), ('...', 'Punctuation'), ('현생', 'Noun'), ('이', 'Josa'), ('아무리', 'Adverb'), ('바빠도', 'Adjective'), ('진짜', 'Noun'), ('두', 'Determiner'), ('간', 'Noun'), ('님', 'Suffix'), ('노래', 'Noun'), ('는', 'Josa'), ('주', 'Modifier'), ('기적', 'Noun'), ('으로', 'Josa'), ('들어줘', 'Verb'), ('야하는', 'Adjective'), ('병', 'Noun'), ('에', 'Josa'), ('걸리고말았어요', 'Verb'), ('이번', 'Noun'), ('노래', 'Noun'), ('도', 'Josa'), ('너무', 'Adverb'), ('너무', 'Adverb'), ('잘', 'Verb'), ('들었습니다', 'Verb'), ('!!!', 'Punctuation'), ('앞', 'Noun'), ('으로도', 'Josa'), ('쭉', 'Noun'), ('좋은', 'Adjective'), ('노래', 'Noun'), ('내주세요', 'Verb'), ('!!', 'Punctuation')], [('알고리즘', 'Noun'), ('통해', 'Noun'), ('서', 'Josa'), ('왔는데', 'Verb'), ('노래', 'Noun'), ('너무', 'Adverb'), ('잘', 'Verb'), ('부르시네요', 'Verb'), ('!', 'Punctuation')], [('두', 'Determiner'), ('간', 'Noun'), ('님', 'Suffix'), ('이', 'Josa'), ('제', 'Noun'), ('여름', 'Noun'), ('그', 'Determiner'), ('자체', 'Noun'), ('랍니', 'Noun'), ('다', 'Josa'), ('ㅜㅜ', 'KoreanParticle')], [('편곡', 'Noun'), ('가사', 'Noun'), ('보고', 'Noun'), ('싶어서', 'Verb'), ('죽겠어요', 'Verb'), ('눈', 'Noun'), ('뜨자마자', 'Verb'), ('두', 'Determiner'), ('간', 'Noun'), ('님', 'Suffix'), ('노래', 'Noun'), ('부터', 'Josa'), ('트는', 'Verb'), ('중', 'Noun')], [('이', 'Noun'), ('청량함', 'Adjective'), ('어떡해', 'Adjective'), (',,', 'Punctuation'), ('올해', 'Noun'), ('의', 'Josa'), ('여름', 'Noun'), ('을', 'Josa'), ('책임져', 'Verb'), ('(', 'Punctuation'), ('˃̣̣̣̣︿˂̣̣̣̣', 'Foreign'), (')', 'Punctuation')], [('두', 'Determiner'), ('간', 'Noun'), ('님', 'Suffix'), ('새해', 'Noun'), ('복', 'Noun'), ('많이', 'Adverb'), ('받으세요', 'Verb'), ('^^', 'Punctuation')], [('기다렸습니다', 'Verb'), ('.', 'Punctuation'), ('이', 'Determiner'), ('거', 'Noun'), ('두', 'Determiner'), ('간', 'Noun'), ('님', 'Suffix'), ('의', 'Josa'), ('잿빛', 'Noun'), ('과', 'Josa'), ('푸름이랑', 'Adjective'), ('어울릴', 'Verb'), ('것', 'Noun'), ('같아요', 'Adjective'), ('.', 'Punctuation'), ('잿빛', 'Noun'), ('과', 'Josa'), ('푸름은', 'Adjective'), ('겨울', 'Noun'), (',', 'Punctuation'), ('이', 'Determiner'), ('거', 'Noun'), ('는', 'Josa'), ('여름', 'Noun'), ('.', 'Punctuation')], [('와', 'Verb'), ('푸름과', 'Adjective'), ('여름', 'Noun'), ('ㅠㅠㅠㅠㅠㅠㅠ', 'KoreanParticle'), ('최고', 'Noun'), ('예요', 'Josa')], [('두', 'Determiner'), ('간', 'Noun'), ('님', 'Suffix'), ('수고', 'Noun'), ('하셨어요', 'Verb'), ('\\n', 'Foreign'), ('정말', 'Noun'), ('그리웠답니다', 'Adjective'), ('항상', 'Noun'), ('기다릴게요', 'Verb'), ('︎', 'Foreign')], [('원더풀', 'Noun'), ('^^', 'Punctuation')], [('최공', 'Noun'), ('뜨고', 'Verb'), ('알람', 'Noun'), ('설정', 'Noun'), ('은', 'Josa'), ('해', 'Noun'), ('뒀지만', 'Verb'), ('보고싶어서', 'Verb'), ('다시', 'Noun'), ('왔어여', 'Verb'), ('이제', 'Noun'), ('..........', 'Punctuation'), ('24시간', 'Number'), ('남았다', 'Verb'), ('ㅠ', 'KoreanParticle'), ('너무', 'Adverb'), ('보고싶었는데', 'Verb'), ('푸름과', 'Adjective'), ('여름', 'Noun'), ('이라', 'Josa'), ('니요', 'Noun'), ('ㅠㅠㅠㅠㅠㅠㅠㅠㅠㅠㅠㅠㅠㅠㅠㅠ', 'KoreanParticle'), ('감사합니다', 'Verb')], [('미리', 'Noun'), ('천', 'Modifier'), ('국가', 'Noun'), ('있겠습니다', 'Adjective'), ('.', 'Punctuation'), ('아', 'Exclamation'), ('그리고', 'Conjunction'), ('두', 'Determiner'), ('간', 'Noun'), ('님', 'Suffix'), ('이', 'Josa'), ('부르시는', 'Verb'), ('kick', 'Alpha'), ('back', 'Alpha'), ('듣고싶습니다', 'Verb'), ('~!', 'Punctuation'), ('다음', 'Noun'), ('에', 'Josa'), ('들어', 'Verb'), ('볼수있으면', 'Verb'), ('좋겠네요', 'Adjective'), ('긁는', 'Verb'), ('목소리', 'Noun'), ('들으니까', 'Verb'), ('딱', 'Adverb'), ('두', 'Determiner'), ('간', 'Noun'), ('님', 'Suffix'), ('생각나더라구요', 'Verb'), ('ㅎㅎ', 'KoreanParticle')], [('외쳐', 'Verb'), ('두', 'Determiner'), ('갓', 'Noun')], [('좋은', 'Adjective'), ('노래', 'Noun'), ('늘', 'Noun'), ('감사합니다', 'Verb'), ('.', 'Punctuation')], [('하', 'Exclamation'), ('..', 'Punctuation'), ('쌤', 'Noun'), ('개', 'Noun'), ('쩔어요', 'Noun'), ('어떻게', 'Adjective'), ('사람', 'Noun'), ('목소리', 'Noun'), ('가', 'Josa'), ('이렇게', 'Adverb'), ('좋을수가', 'Adjective'), ('있는지', 'Adjective'), ('...', 'Punctuation'), ('\\n', 'Foreign'), ('♡♡♡♡♡♡', 'Foreign')], [('와', 'Verb'), ('너무', 'Adverb'), ('좋다', 'Adjective'), ('...', 'Punctuation'), ('ㅠㅡㅠ', 'KoreanParticle'), ('️️️️', 'Foreign'), ('고음', 'Noun'), ('들', 'Suffix'), ('을', 'Josa'), ('때', 'Noun'), ('마다', 'Josa'), ('소름', 'Noun'), ('돋아서', 'Verb'), ('계속', 'Noun'), ('듣게', 'Verb'), ('되는', 'Verb'), ('갓', 'Modifier'), ('두', 'Modifier'), ('간', 'Noun'), ('..', 'Punctuation'), ('목소리', 'Noun'), ('넘', 'Verb'), ('흐', 'Noun'), ('져아', 'Verb'), ('멋있', 'Adjective'), ('쪄', 'Verb')], [('역시', 'Noun'), ('두', 'Determiner'), ('간', 'Noun'), ('님', 'Suffix'), ('두', 'Determiner'), ('간', 'Noun'), ('님', 'Suffix'), ('이', 'Josa'), ('커버', 'Noun'), ('한', 'Josa'), ('만', 'Modifier'), ('개화', 'Noun'), ('도', 'Josa'), ('듣고싶어요', 'Verb')], [('샘', 'Noun'), ('제발', 'Noun'), ('henceforth', 'Alpha'), ('사', 'Noun'), ('클에', 'Verb'), ('업로드', 'Noun'), ('해주세요', 'Verb'), ('진짜', 'Noun'), ('저', 'Noun'), ('하루', 'Noun'), ('종일', 'Noun'), ('그것', 'Noun'), ('만', 'Josa'), ('듣는데', 'Verb'), ('유튜브', 'Noun'), ('프리미엄', 'Noun'), ('안', 'Noun'), ('써서', 'Verb'), ('죽', 'Noun'), ('을', 'Josa'), ('것', 'Noun'), ('같아요', 'Adjective'), ('제발', 'Noun'), ('진자', 'Noun'), ('올려주세요', 'Verb'), ('..', 'Punctuation'), ('원', 'Modifier'), ('곡', 'Noun'), ('보다', 'Josa'), ('샘', 'Noun'), ('커버', 'Noun'), ('가', 'Josa'), ('더', 'Noun'), ('좋아서', 'Adjective'), ('샘', 'Noun'), ('목소리', 'Noun'), ('만', 'Josa'), ('듣는다구요', 'Verb'), ('….', 'Punctuation'), ('빨라', 'Adjective'), ('절', 'Noun'), ('책임져줘요', 'Verb')], [('청춘', 'Noun'), ('과', 'Josa'), ('여름', 'Noun'), ('..', 'Punctuation'), ('Mrs', 'Alpha'), ('.', 'Punctuation'), ('Green', 'Alpha'), ('Apple', 'Alpha'), ('의', 'Noun'), ('여름', 'Noun'), ('연금', 'Noun'), ('곡', 'Noun'), ('이', 'Suffix'), ('죠', 'Josa'), ('…', 'Punctuation')], [('와', 'Verb'), ('ㅠㅠ', 'KoreanParticle'), ('두', 'Determiner'), ('간', 'Noun'), ('님', 'Suffix'), ('ㅠㅠ', 'KoreanParticle'), ('와', 'Verb'), ('대박', 'Noun'), ('ㅠㅜㅠㅠㅠ', 'KoreanParticle')], [('이', 'Noun'), ('추운', 'Verb'), ('눈', 'Noun'), ('덮인', 'Verb'), ('겨울', 'Noun'), ('날', 'Noun'), ('마치', 'Noun'), ('매미', 'Noun'), ('소리', 'Noun'), ('가', 'Josa'), ('들리는', 'Verb'), ('듯', 'Noun'), ('한', 'Josa'), ('…', 'Punctuation')], [('플레이', 'Noun'), ('리스트', 'Noun'), ('에', 'Josa'), ('하나', 'Noun'), ('추가', 'Noun'), ('할게', 'Verb'), ('늘었네', 'Verb'), ('...', 'Punctuation'), ('히', 'Adverb'), ('히', 'Adverb')], [('두목', 'Noun'), ('님', 'Suffix'), ('기다리고', 'Verb'), ('있었', 'Adjective'), ('습', 'Noun'), ('네', 'Suffix'), ('다', 'Josa'), ('.', 'Punctuation'), ('드디어', 'Adverb'), ('돌아오시는', 'Verb'), ('구만', 'Noun'), ('요', 'Josa'), ('.', 'Punctuation'), ('두목', 'Noun'), ('님', 'Suffix'), ('안', 'Noun'), ('계시는', 'Adjective'), ('동안', 'Noun'), ('저쪽', 'Noun'), ('파', 'Noun'), ('에서', 'Josa'), ('두목', 'Noun'), ('님', 'Suffix'), ('찾느라', 'Verb'), ('애', 'Noun'), ('먹었', 'Verb'), ('습', 'Noun'), ('다', 'Adverb'), ('.', 'Punctuation')], [('캬', 'Noun'), ('너무', 'Adverb'), ('좋다', 'Adjective')], [('요', 'Modifier'), ('루시', 'Noun'), ('카', 'Noun'), ('신곡', 'Noun'), ('두', 'Determiner'), ('간', 'Noun'), ('님', 'Suffix'), ('감성', 'Noun'), ('으로', 'Josa'), ('듣고싶어요', 'Verb'), ('ㅠ', 'KoreanParticle')], [('청춘', 'Noun'), ('중', 'Noun'), ('가장', 'Noun'), ('사랑', 'Noun'), ('했던', 'Verb'), ('시절', 'Noun'), ('을', 'Josa'), ('보는', 'Verb'), ('것', 'Noun'), ('만', 'Josa'), ('같아요', 'Adjective'), ('어느새', 'Adjective'), ('성숙해', 'Adjective'), ('버린', 'Verb'), ('내', 'Noun'), ('가', 'Josa'), ('어린', 'Verb'), ('날', 'Noun'), ('사랑', 'Noun'), ('했던', 'Verb'), ('첫사랑', 'Noun'), ('상기', 'Noun'), ('한', 'Josa'), ('기분', 'Noun'), ('이에요', 'Josa')], [('노래', 'Noun'), ('신청', 'Noun'), ('그런거', 'Adjective'), ('하면', 'Verb'), ('좀', 'Noun'), ('불편하시려나', 'Adjective'), ('???', 'Punctuation'), ('그래도', 'Adverb'), ('개인', 'Noun'), ('적', 'Suffix'), ('으로', 'Josa'), ('만', 'Modifier'), ('개화', 'Noun'), ('진짜', 'Noun'), ('듣고싶어요', 'Verb'), ('저', 'Determiner'), ('진짜', 'Noun'), ('연예인', 'Noun'), ('아이돌', 'Noun'), ('배우', 'Noun'), ('유튜버', 'Noun'), ('그런거', 'Adjective'), ('파는', 'Verb'), ('사람', 'Noun'), ('아닌데', 'Adjective'), ('처음', 'Noun'), ('으로', 'Josa'), ('덕질', 'Noun'), ('하게', 'Verb'), ('된거', 'Noun'), ('같아요', 'Adjective'), ('지금', 'Noun'), ('다', 'Adverb'), ('찾아서', 'Verb'), ('듣는', 'Verb'), ('중', 'Noun'), ('미쳤다', 'Adjective'), ('진짜', 'Noun'), ('나왜', 'Noun'), ('이래', 'Josa')], [('넘', 'Verb'), ('무조', 'Noun'), ('코', 'Noun'), ('ㅗ', 'KoreanParticle'), ('오오오오', 'Noun'), ('ㅗ', 'KoreanParticle'), ('오오오오', 'Noun'), ('@@@@', 'Punctuation')], [('당신', 'Noun'), ('만을', 'Josa'), ('기다리고', 'Verb'), ('있었다우', 'Adjective'), ('….', 'Punctuation')], [('시원할', 'Adjective'), ('준비', 'Noun'), ('완료', 'Noun'), ('!', 'Punctuation'), ('딱', 'Adverb'), ('대', 'Verb'), ('!', 'Punctuation')], [('두', 'Determiner'), ('간', 'Noun'), ('님', 'Suffix'), ('복귀', 'Noun'), ('\\n', 'Foreign'), ('오늘', 'Noun'), ('부터', 'Josa'), ('여름', 'Noun'), ('이에요', 'Josa'), ('🥹', 'Foreign')], [('ㅘ', 'KoreanParticle')], [('두', 'Determiner'), ('간', 'Noun'), ('최고', 'Noun'), ('야', 'Josa')], [('와', 'Verb'), ('잘뽑히셨', 'Verb'), ('댜', 'Noun')], [('만', 'Modifier'), ('개화', 'Noun'), ('불러주세요', 'Verb'), ('제발', 'Noun'), ('….', 'Punctuation')], [('만', 'Modifier'), ('개화', 'Noun'), ('불러주세요', 'Verb'), ('..!', 'Punctuation')], [('사랑', 'Noun'), ('애', 'Noun'), ('요', 'Josa'), ('...', 'Punctuation')], [('이', 'Determiner'), ('곳', 'Noun'), ('이', 'Josa'), ('제', 'Noun'), ('누울', 'Noun'), ('자리군요', 'Adjective'), ('..', 'Punctuation')], [('두', 'Determiner'), ('간', 'Noun'), ('했다', 'Verb'), ('..', 'Punctuation')], [('️', 'Foreign')], [('가보자구', 'Verb'), ('~', 'Punctuation')], [('1일', 'Number'), ('남았다', 'Verb'), ('...', 'Punctuation')], [('아이스크림', 'Noun'), ('캔디', 'Noun'), ('밬', 'Noun'), ('ㅋㅋㅋㅋㅋ', 'KoreanParticle')], [('너무', 'Adverb'), ('잘', 'VerbPrefix'), ('부르시네요', 'Verb'), ('하트', 'Noun'), ('오조오억', 'Noun'), ('개', 'Suffix'), ('드립니당', 'Verb')]]\n"
     ]
    }
   ],
   "source": [
    "######댓글 가져오기#######\n",
    "#page_source\n",
    "#브라우저에 보이는 그대로의 HTML, 크롬 개발자 도구의 Element 탭 내용과 동일.\n",
    "html_source = driver.page_source\n",
    "#BeautifulSoup(html문서,'html.parser')\n",
    "soup = BeautifulSoup(html_source, 'html.parser')\n",
    "\n",
    "#soup.select 조건에 맞는 태그를 여러개 가져옴 \n",
    "#soup.select_one() 조건에 맞는 태그를 한개(여러개가 있어도 한개만)\n",
    "#태그이름  .클래스이름  #아이디이름  상위태그>자식태그>자식태그\n",
    "#아이디>태그.클래스이름\n",
    "id_list = soup.select(\"div#header-author > h3 > #author-text > span\")\n",
    "comment_list = soup.select(\"yt-formatted-string#content-text\")\n",
    "\n",
    "# id_final = []\n",
    "comment_final=[]\n",
    "\n",
    "\n",
    "\n",
    "twt=Twitter()\n",
    "\n",
    "for i in range(len(comment_list)):\n",
    "    # temp_id = id_list[i].text  #아이디 리스트를 가져와서\n",
    "    # temp_id = temp_id.replace('\\n', '') #필요한 부분만 남기면\n",
    "    # temp_id = temp_id.replace('\\t', '')\n",
    "    # temp_id = temp_id.replace('    ', '')\n",
    "    # temp_id = re.sub(r\"[^\\uAC00-\\uD7A30-9a-zA-Z\\s]\",\"\",temp_id)\n",
    "    # id_final.append(temp_id) # 댓글 작성자 id_final이 생김\n",
    "\n",
    "    temp_comment = comment_list[i].text #마찬가지\n",
    "    #형태소 기준으로 분리\n",
    "    temp_comment = twt.pos(temp_comment) \n",
    "#    temp_comment = temp_comment.replace('\\n', ' ') #필요한 부분만 남기면\n",
    "#   temp_comment = temp_comment.replace('\\t', ' ')\n",
    "#    temp_comment = temp_comment.replace('\\r', ' ').split(\" \") #여기서 split하면 1번ㅇ째 @ 찾을 수 있음\n",
    "\n",
    "    # 파이썬 특정 요소가 있는 리스트 제거  => 이거 안됨 @들어있는 모든 요소가 삭제됨\n",
    "    # temp_comment에 @머시깽이가 있으면 그 특정요소 지움  \n",
    "    # if temp_comment has @ > remove/delete element\n",
    "    # for i in range(len(temp_comment)):\n",
    "    #     if '@' in temp_comment[i]:\n",
    "    #         #i번째 temp_comment를 삭제하라\n",
    "    #         del temp_comment[i]\n",
    "\n",
    "  \n",
    "\n",
    "    #특수문자 빼기  contains(포함 유무)/find(포함되어있으면 어디에있는지 인덱스 값을 주고 없으면 -1을 줌)\n",
    "#    temp_comment = list(filter(lambda n:n.find('@')!=0,temp_comment))\n",
    "    # for넘길복잡 lambda로 함수부분에 한본에 넣어서 할라고?\n",
    "\n",
    "\n",
    "#     # 위에서 split해서 re.sub에 안들어감\n",
    "#     # temp_comment = re.sub(r\"[^\\uAC00-\\uD7A30-9a-zA-Z\\s]\",\" \",temp_comment).replace(u'\\xa0',u'').split(\" \")\n",
    "\n",
    "\n",
    "#     #map filter함수 사용법 @특정? \n",
    "#     # map(function, iterable) \n",
    "#     # function 적용시킬 함수\n",
    "#     # iterable 적용시킬 객체\n",
    "#     temp_comment=list(map(lambda n:re.sub(r\"[^\\uAC00-\\uD7A30-9a-zA-Z]\",\"\",n).replace(u'\\xa0',u''),temp_comment))\n",
    "\n",
    "#     temp_comment = list(filter(None,temp_comment))\n",
    "    comment_final.append(temp_comment)\n",
    "\n",
    "\n",
    "\n",
    "# # 2차원 배열을 1차원 배열로\n",
    "# # for element in comment_pocket:\n",
    "# #     comment_final += element\n",
    "\n",
    "# #->\n",
    "# comment_final= sum(comment_final,[])\n",
    "\n",
    "# #결과확인\n",
    "\n",
    "# print(\"댓글 출력: \")\n",
    "print(comment_final)\n",
    "\n",
    "\n"
   ]
  },
  {
   "cell_type": "code",
   "execution_count": 40,
   "metadata": {},
   "outputs": [
    {
     "name": "stdout",
     "output_type": "stream",
     "text": [
      "{'댓글내용': [['1월', '20일', '트위치', '방송', '복귀도', '기대해주세요', 'httpswwwtwitchtvdugan', '우와우', '저', '믹스했어요', '두간님', '여름푸름', '대박이다', '그냥', '한겨울을', '여름으로', '만들어줬어', '덥다', '더워', '두간님의', '시원시원한', '목소리는', '늘', '새롭고', '기쁜', '마음밖에', '없어요', '항상', '두간님', '노래도', '들으면서', '힘을', '엄청', '받고는', '하는데', '이렇게', '청량한', '청춘', '여름', '곡을', '가지고', '오시다니', '겨울이어도', '너무', '더워지는', '기분이에요', '노래에서', '바다', '냄새', '나는건', '또', '새롭네요', '일러스트도', '너무', '좋고', '예뻐요', '그래도', '두간님이', '가장', '예쁘시고', '멋져요', '듣는동안', '계속', '집중했는데', '한동안', '계속', '듣겠네요', '또', '오랜만에', '발걸음', '해주셔서', '너무', '기뻐요', '트위치', '방송도', '시간이', '걸려서', '계속', '못', '갔는데', '이번에는', '꼭', '봐야겠어요', '정말', '너무', '수고하셨고', '좋은', '노래', '선사해주셔서', '감사드려요', '항상', '응원해요', '두간님', '한겨울을', '그냥', '여름으로', '바꿔버리시네요', '캬', '돌아오시는군요', '고생많으셨습니다', '안들었는데도', '벌써', '좋을거같네요', '여름이었다', '두간님', '노래', '진짜', '너무', '좋아요', '저', '사클도', '맨날', '들어요', '목소리사기', '노래실력사기', '최근에', '두간님', '생각하고', '있었는데', '이렇게', '나오는군요', '그동안', '일본노래', '많이', '들었는데', '전에', '몰랐던', '띵곡들을', '커버하셨더라고요', '이번에', '정주행', '갑니다', '무려', '3주전에도', '나온곡도', '좋았는데', '이번엔', '방송에서', '말하셨던', '푸름과여름곡을', '불러주시다니', '그리고', '방송복귀까지', '해주시니', '진짜', '넘', '조아여', '최초공개까지', '이틀을', '기다려야', '되다니', '또르륵', '최초공개까지', '존버하겠습니다', '진짜', '청량해요', '아', '좋다', '진짜', '진짜', '언제들어도', '진짜', '갓', '항상', '잘듣고', '있습니다', '감사합니다', '완전', '청량', '그자체', '와진짜', '좋다', '기다린', '보람이', '있음', '시원시원하니', '너무', '좋음', '이거', '제가', '너무너무너무너무너무너무너무너무', '좋아하는', '노래예요', '흑흑', '입덕', '이후로', '매일', '두간님', '플레이리스트', '따로', '만들어', '들으면서', '신곡만', '기다렸어요', '바쁜', '현생에도', '잊지', '않고', '돌아와주신', '두간님', '대환영', '노래', '완전', '청춘', '그자체네요', '매번', '덕분에', '좋은', '노래', '알아갑니다', '기분', '안', '좋았는데', '너무', '시원한', '일러랑', '영상에', '시원한', '노래까지', '진짜', '정신', '정화됬어요', '감사합니다', '두간', '님의', '시원시원한', '보컬이랑', '이', '곡이', '너무', '잘', '어울려요', '3', '와', '역시', '두간님', '최고예요', '미쳤다', '와', '너무', '좋다고음들을때마다', '소름돋아서', '계속', '듣게되는', '갓두간목소리넘흐져아', '멋있쪄', '두간님', '정말', '보고', '싶었어요', '이번', '노래도', '너무너무', '기대하고', '있어요', '진짜', '항상', '언제까지나', '노래', '불러주셔야', '해요', '을', '여러번', '들어봤지만', '한국분', '커버중에', '최고입니다', '노래도', '좋고', '두간님', '음색도', '좋고', '노래를', '하고', '유튜브를', '해주셔서', '정말', '감사합니다', '청량', '그', '자체', '말로', '형용할', '수', '없을', '만큼', '좋아서', '댓글을', '지웠다가', '쓰기만', '반복하다가', '이제야', '남기네요', '항상', '멋진', '곡을', '멋진', '목소리로', '불러주셔서', '감사드립니다', '일러도', '영상도', '믹스도', '다', '좋아요여름이', '오면', '더더욱', '생각날', '것', '같은', '노래네요', '현생', '때문에', '방송', '챙겨보기', '힘들어졌지만', '항상', '두간님을', '응원하고', '있어요', '와', '두간님', '이번노래도', '최곱니댜', '좋아요', '노래', '너무', '좋아요', '새해', '복', '많이', '받으세요', '두간님', '제가', '두간님', '노래를', '우연찮게', '듣고', '바로', '유튜브', '프리미엄을', '질러서', '어느', '새', '꽤', '오랜', '시간이', '지났는데요', '오늘도', '유튜브', '프리미엄', '야무지게', '쓰고', '갑니다', '바로', '유튜브', '뮤직', '플레이리스트에', '넣었어요', '잘', '듣고', '갑니다', '이', '노래', '청량해서', '원래도', '좋아했는데', '두간님', '목소리에', '시원한', '고음이', '있는', '커버곡', '진짜', '너무', '좋아요', '유명한', '노래인', '만큼', '친구들에게', '열심히', '영입해보겠습니다', '정말', '너무', '잘', '들었습니다', '플리에', '이노래', '추가해놓고', '계속', '듣겠군요', '와', '제가', '정말', '좋아하는노랜데', '커버해주셔서', '감사해요', '역시', '믿고', '듣는', '두간', '님', '제게', '여름이', '벌써', '온', '것', '같아요', '제가', '즐겨듣는', '노래인데', '이렇게', '불러주시다니', '앞으로', '잘', '듣겠습니다', '오우', '씨이이이잇', '뭐야', '두간님', '개쩔잖아요', '바쁘신', '와중에', '돌아와', '노래', '불러주신', '두간님', '항상', '감사합니다', '으아아악', '겨울에', '듣는', '여름', '청춘', '밴드곡', '너무', '좋아요', '두간님은', '신이다', '두간님', '목소리에', '너무너무', '잘어울리는', '노래를', '들고오셨네요찰떡인', '노래에', '찰떡인', '일러스트까지', '진짜', '너무', '최고예요방송', '복귀도', '축하드리고', '노래도', '감사합니다', '두간님', '노래', '자체가', '청량함이고', '녹음이니까', '오늘부터', '여름이다', '반팔', '꺼내야지', '와', '이', '노래를', '두간님', '목소리로', '듣다니홀리', '이', '노래', '들으니까', '두간님', '좋아하던', '제', '학창시절', '한페이지씩', '넘겨보는', '거', '같고', '진짜', '첫사랑이었다', '제가', '제일', '좋아하는', '밴드의', '제일', '좋아하는', '곡을', '제일', '좋아하는', '두간님이', '커버라니', '전', '정말', '죽어도', '여한이', '없어요', '이', '날을', '위해', '살아온', '나를', '위해', '치얼스', '여름바람해돋이', '투고때부터', '정말', '꾸준히', '지켜보고', '좋아했어요', '색다른', '두간님의', '여름을', '맛본', '것', '같아서', '너무너무', '기쁩니다', '트위치', '방송', '복귀도', '꼭', '챙길게요', '아', '뭐야', '아직', '안', '들어봤는데', '벌써', '좋아', '금요일이', '너무', '기대됩니다', '이번에도', '청량하고', '진짜', '딱', '두간님이랑', '찰떡인', '커버', '뭐야', '한겨울에', '느끼는', '두간넴의', '청량감이란', '진짜', '최고라구요', '광광', '진짜', '두간님', '목소리가', '너무', '좋네요', '간드러지는', '두간님', '노래', '계속', '듣고', '싶어요', '이번', '커버도', '너무', '좋습니다', '두간님의', '또', '다른', '커버라니', '일러스트부터가', '너무', '맘에', '드네요', '이번에도', '잘', '듣도록', '하겠습니다', '사랑합니다', '사랑합니다', '엄청', '기다렸어요', '한동안', '이', '노래만', '계속', '반복해서', '들을', '예정', '갓두간', '진짜', '이제', '그', '만', '사랑하고싶습니다', '끝음처리', '환상적', '항상', '매번', '생각하고', '말하는', '거지만', '두간님이', '부르신', '곡을', '듣고', '난', '후로부터는', '저는', '두간님이', '아니면', '만족할', '수가', '없게', '되는', '경지에', '이르렀습니다', '이렇게', '안타까운', '저를', '봐서라도', '부디', '그래도', '가능한', '70살까지라도', '계속해서', '노래를', '부러주심은', '어떠하신지요진심을', '담아서', '간청드리옵니다요', '두간님', '두간님은', '사람이', '아닙니다요', '제가', '이런', '말은', '진짜', '안', '하는데', '혹시', '두간님천사이신지요두간님의', '이', '아리따운', '목소리는', '천사가', '아닌', '이상', '낼', '수', '없고', '있을', '수도', '없는', '목소리입니다', '한', '번', '말을', '하니', '자꾸', '길어지네요', '그정도로', '두간님의', '목소리', '하', '사랑합니다', '두간님과', '같은', '세계와', '같은', '시대에서', '살아가는', '것만으로도', '영광스러워', '가슴이', '벅찬데', '노래까지', '불러주시다니', '그저', '영광', '또', '영광이옵니다', '정말', '마지막으로', '두간님', '사랑하고요', '또', '앞으로', '평생', '노래', '불러주실', '거죠', '역시', '목소리로', '홀리는', '남자치명적', '믿고듣는', '두간', '현생이', '아무리', '바빠도', '진짜', '두간님', '노래는', '주기적으로', '들어줘야하는', '병에걸리고말았어요', '이번', '노래도', '너무너무', '잘', '들었습니다앞으로도', '쭉', '좋은노래', '내주세요', '알고리즘', '통해서', '왔는데', '노래', '너무', '잘', '부르시네요', '두간님이', '제', '여름', '그자체랍니다', '편곡', '가사', '보고', '싶어서', '죽겠어요', '눈', '뜨자마자', '두간님', '노래부터', '트는', '중', '이', '청량함', '어떡해', '올해의', '여름을', '책임져', '두간님', '새해복', '많이', '받으세요', '기다렸습니다', '이거', '두간님의', '잿빛과', '푸름이랑', '어울릴', '것', '같아요', '잿빛과', '푸름은', '겨울', '이거는', '여름', '와', '푸름과', '여름', '최고예요', '두간님', '수고하셨어요', '정말', '그리웠답니다', '항상', '기다릴게요', '원더풀', '최공뜨고', '알람설정은', '해뒀지만', '보고싶어서', '다시', '왔어여', '이제', '24시간', '남았다', '너무', '보고싶었는데', '푸름과', '여름이라니요', '감사합니다', '미리', '천국가있겠습니다', '아', '그리고', '두간님이', '부르시는', 'kick', 'back', '듣고싶습니다', '다음에', '들어볼수있으면', '좋겠네요', '긁는목소리', '들으니까', '딱', '두간님생각나더라구요', '외쳐', '두갓', '좋은', '노래', '늘', '감사합니다', '하', '쌤', '개쩔어요', '어떻게', '사람목소리가', '이렇게', '좋을수가', '있는지', '역시', '두간님', '두간님이', '커버한', '만개화도', '듣고싶어요', '샘', '제발', 'henceforth', '사클에', '업로드', '해주세요', '진짜', '저', '하루종일', '그것만', '듣는데', '유튜브', '프리미엄', '안', '써서', '죽을', '것', '같아요', '제발', '진자', '올려주세요', '원곡보다', '샘', '커버가', '더', '좋아서', '샘', '목소리만', '듣는다구요빨라', '절', '책임져줘요', '청춘과', '여름', 'Mrs', 'Green', 'Apple의', '여름', '연금', '곡이죠', '와', '두간님', '와대박', '이', '추운', '눈', '덮인', '겨울', '날', '마치', '매미소리가', '들리는', '듯한', '플레이리스트에', '하나', '추가할게', '늘었네히히', '두목님', '기다리고', '있었습네다', '드디어', '돌아오시는구만요', '두목님', '안', '계시는', '동안', '저쪽', '파에서', '두목님', '찾느라', '애먹었습다', '캬', '너무', '좋다', '요루시카', '신곡', '두간님', '감성으로', '듣고싶어요', '청춘', '중', '가장', '사랑했던', '시절을', '보는', '것만', '같아요', '어느새', '성숙해버린', '내가', '어린', '날', '사랑했던', '첫사랑', '상기한', '기분이에요', '노래', '신청', '그런거', '하면', '좀', '불편하시려나그래도', '개인적으로', '만개화', '진짜', '듣고싶어요', '저진짜', '연예인', '아이돌', '배우', '유튜버', '그런거', '파는사람', '아닌데', '처음으로', '덕질하게된거같아요', '지금', '다', '찾아서', '듣는중', '미쳤다진짜', '나왜이래', '넘무조코오오오오오오오오', '당신만을', '기다리고', '있었다우', '시원할', '준비', '완료', '딱', '대', '두간님', '복귀', '오늘부터', '여름이에요', '두간', '최고야', '와', '잘뽑히셨댜', '만개화', '불러주세요', '제발', '만개화', '불러주세요', '사랑애요', '이곳이', '제', '누울', '자리군요', '두간했다', '가보자구', '1일', '남았다', '아이스크림', '캔디밬', '너무', '잘부르시네요', '하트', '오조오억개', '드립니당']]}\n"
     ]
    },
    {
     "ename": "KeyError",
     "evalue": "'[1] not found in axis'",
     "output_type": "error",
     "traceback": [
      "\u001b[1;31m---------------------------------------------------------------------------\u001b[0m",
      "\u001b[1;31mKeyError\u001b[0m                                  Traceback (most recent call last)",
      "Cell \u001b[1;32mIn[40], line 8\u001b[0m\n\u001b[0;32m      6\u001b[0m youtube_pd \u001b[39m=\u001b[39m pd\u001b[39m.\u001b[39mDataFrame(pd_data)\n\u001b[0;32m      7\u001b[0m \u001b[39mprint\u001b[39m(pd_data)\n\u001b[1;32m----> 8\u001b[0m youtube_pd\u001b[39m.\u001b[39;49mdrop([\u001b[39m1\u001b[39;49m], axis\u001b[39m=\u001b[39;49m\u001b[39m0\u001b[39;49m, inplace\u001b[39m=\u001b[39;49m\u001b[39mTrue\u001b[39;49;00m)\n\u001b[0;32m     11\u001b[0m youtube_pd\u001b[39m.\u001b[39mto_excel(search\u001b[39m+\u001b[39m\u001b[39m'\u001b[39m\u001b[39m.xlsx\u001b[39m\u001b[39m'\u001b[39m)\n",
      "File \u001b[1;32mc:\\Users\\admin\\AppData\\Local\\Programs\\Python\\Python311\\Lib\\site-packages\\pandas\\util\\_decorators.py:331\u001b[0m, in \u001b[0;36mdeprecate_nonkeyword_arguments.<locals>.decorate.<locals>.wrapper\u001b[1;34m(*args, **kwargs)\u001b[0m\n\u001b[0;32m    325\u001b[0m \u001b[39mif\u001b[39;00m \u001b[39mlen\u001b[39m(args) \u001b[39m>\u001b[39m num_allow_args:\n\u001b[0;32m    326\u001b[0m     warnings\u001b[39m.\u001b[39mwarn(\n\u001b[0;32m    327\u001b[0m         msg\u001b[39m.\u001b[39mformat(arguments\u001b[39m=\u001b[39m_format_argument_list(allow_args)),\n\u001b[0;32m    328\u001b[0m         \u001b[39mFutureWarning\u001b[39;00m,\n\u001b[0;32m    329\u001b[0m         stacklevel\u001b[39m=\u001b[39mfind_stack_level(),\n\u001b[0;32m    330\u001b[0m     )\n\u001b[1;32m--> 331\u001b[0m \u001b[39mreturn\u001b[39;00m func(\u001b[39m*\u001b[39;49margs, \u001b[39m*\u001b[39;49m\u001b[39m*\u001b[39;49mkwargs)\n",
      "File \u001b[1;32mc:\\Users\\admin\\AppData\\Local\\Programs\\Python\\Python311\\Lib\\site-packages\\pandas\\core\\frame.py:5399\u001b[0m, in \u001b[0;36mDataFrame.drop\u001b[1;34m(self, labels, axis, index, columns, level, inplace, errors)\u001b[0m\n\u001b[0;32m   5251\u001b[0m \u001b[39m@deprecate_nonkeyword_arguments\u001b[39m(version\u001b[39m=\u001b[39m\u001b[39mNone\u001b[39;00m, allowed_args\u001b[39m=\u001b[39m[\u001b[39m\"\u001b[39m\u001b[39mself\u001b[39m\u001b[39m\"\u001b[39m, \u001b[39m\"\u001b[39m\u001b[39mlabels\u001b[39m\u001b[39m\"\u001b[39m])\n\u001b[0;32m   5252\u001b[0m \u001b[39mdef\u001b[39;00m \u001b[39mdrop\u001b[39m(  \u001b[39m# type: ignore[override]\u001b[39;00m\n\u001b[0;32m   5253\u001b[0m     \u001b[39mself\u001b[39m,\n\u001b[1;32m   (...)\u001b[0m\n\u001b[0;32m   5260\u001b[0m     errors: IgnoreRaise \u001b[39m=\u001b[39m \u001b[39m\"\u001b[39m\u001b[39mraise\u001b[39m\u001b[39m\"\u001b[39m,\n\u001b[0;32m   5261\u001b[0m ) \u001b[39m-\u001b[39m\u001b[39m>\u001b[39m DataFrame \u001b[39m|\u001b[39m \u001b[39mNone\u001b[39;00m:\n\u001b[0;32m   5262\u001b[0m \u001b[39m    \u001b[39m\u001b[39m\"\"\"\u001b[39;00m\n\u001b[0;32m   5263\u001b[0m \u001b[39m    Drop specified labels from rows or columns.\u001b[39;00m\n\u001b[0;32m   5264\u001b[0m \n\u001b[1;32m   (...)\u001b[0m\n\u001b[0;32m   5397\u001b[0m \u001b[39m            weight  1.0     0.8\u001b[39;00m\n\u001b[0;32m   5398\u001b[0m \u001b[39m    \"\"\"\u001b[39;00m\n\u001b[1;32m-> 5399\u001b[0m     \u001b[39mreturn\u001b[39;00m \u001b[39msuper\u001b[39;49m()\u001b[39m.\u001b[39;49mdrop(\n\u001b[0;32m   5400\u001b[0m         labels\u001b[39m=\u001b[39;49mlabels,\n\u001b[0;32m   5401\u001b[0m         axis\u001b[39m=\u001b[39;49maxis,\n\u001b[0;32m   5402\u001b[0m         index\u001b[39m=\u001b[39;49mindex,\n\u001b[0;32m   5403\u001b[0m         columns\u001b[39m=\u001b[39;49mcolumns,\n\u001b[0;32m   5404\u001b[0m         level\u001b[39m=\u001b[39;49mlevel,\n\u001b[0;32m   5405\u001b[0m         inplace\u001b[39m=\u001b[39;49minplace,\n\u001b[0;32m   5406\u001b[0m         errors\u001b[39m=\u001b[39;49merrors,\n\u001b[0;32m   5407\u001b[0m     )\n",
      "File \u001b[1;32mc:\\Users\\admin\\AppData\\Local\\Programs\\Python\\Python311\\Lib\\site-packages\\pandas\\util\\_decorators.py:331\u001b[0m, in \u001b[0;36mdeprecate_nonkeyword_arguments.<locals>.decorate.<locals>.wrapper\u001b[1;34m(*args, **kwargs)\u001b[0m\n\u001b[0;32m    325\u001b[0m \u001b[39mif\u001b[39;00m \u001b[39mlen\u001b[39m(args) \u001b[39m>\u001b[39m num_allow_args:\n\u001b[0;32m    326\u001b[0m     warnings\u001b[39m.\u001b[39mwarn(\n\u001b[0;32m    327\u001b[0m         msg\u001b[39m.\u001b[39mformat(arguments\u001b[39m=\u001b[39m_format_argument_list(allow_args)),\n\u001b[0;32m    328\u001b[0m         \u001b[39mFutureWarning\u001b[39;00m,\n\u001b[0;32m    329\u001b[0m         stacklevel\u001b[39m=\u001b[39mfind_stack_level(),\n\u001b[0;32m    330\u001b[0m     )\n\u001b[1;32m--> 331\u001b[0m \u001b[39mreturn\u001b[39;00m func(\u001b[39m*\u001b[39;49margs, \u001b[39m*\u001b[39;49m\u001b[39m*\u001b[39;49mkwargs)\n",
      "File \u001b[1;32mc:\\Users\\admin\\AppData\\Local\\Programs\\Python\\Python311\\Lib\\site-packages\\pandas\\core\\generic.py:4505\u001b[0m, in \u001b[0;36mNDFrame.drop\u001b[1;34m(self, labels, axis, index, columns, level, inplace, errors)\u001b[0m\n\u001b[0;32m   4503\u001b[0m \u001b[39mfor\u001b[39;00m axis, labels \u001b[39min\u001b[39;00m axes\u001b[39m.\u001b[39mitems():\n\u001b[0;32m   4504\u001b[0m     \u001b[39mif\u001b[39;00m labels \u001b[39mis\u001b[39;00m \u001b[39mnot\u001b[39;00m \u001b[39mNone\u001b[39;00m:\n\u001b[1;32m-> 4505\u001b[0m         obj \u001b[39m=\u001b[39m obj\u001b[39m.\u001b[39;49m_drop_axis(labels, axis, level\u001b[39m=\u001b[39;49mlevel, errors\u001b[39m=\u001b[39;49merrors)\n\u001b[0;32m   4507\u001b[0m \u001b[39mif\u001b[39;00m inplace:\n\u001b[0;32m   4508\u001b[0m     \u001b[39mself\u001b[39m\u001b[39m.\u001b[39m_update_inplace(obj)\n",
      "File \u001b[1;32mc:\\Users\\admin\\AppData\\Local\\Programs\\Python\\Python311\\Lib\\site-packages\\pandas\\core\\generic.py:4546\u001b[0m, in \u001b[0;36mNDFrame._drop_axis\u001b[1;34m(self, labels, axis, level, errors, only_slice)\u001b[0m\n\u001b[0;32m   4544\u001b[0m         new_axis \u001b[39m=\u001b[39m axis\u001b[39m.\u001b[39mdrop(labels, level\u001b[39m=\u001b[39mlevel, errors\u001b[39m=\u001b[39merrors)\n\u001b[0;32m   4545\u001b[0m     \u001b[39melse\u001b[39;00m:\n\u001b[1;32m-> 4546\u001b[0m         new_axis \u001b[39m=\u001b[39m axis\u001b[39m.\u001b[39;49mdrop(labels, errors\u001b[39m=\u001b[39;49merrors)\n\u001b[0;32m   4547\u001b[0m     indexer \u001b[39m=\u001b[39m axis\u001b[39m.\u001b[39mget_indexer(new_axis)\n\u001b[0;32m   4549\u001b[0m \u001b[39m# Case for non-unique axis\u001b[39;00m\n\u001b[0;32m   4550\u001b[0m \u001b[39melse\u001b[39;00m:\n",
      "File \u001b[1;32mc:\\Users\\admin\\AppData\\Local\\Programs\\Python\\Python311\\Lib\\site-packages\\pandas\\core\\indexes\\base.py:6934\u001b[0m, in \u001b[0;36mIndex.drop\u001b[1;34m(self, labels, errors)\u001b[0m\n\u001b[0;32m   6932\u001b[0m \u001b[39mif\u001b[39;00m mask\u001b[39m.\u001b[39many():\n\u001b[0;32m   6933\u001b[0m     \u001b[39mif\u001b[39;00m errors \u001b[39m!=\u001b[39m \u001b[39m\"\u001b[39m\u001b[39mignore\u001b[39m\u001b[39m\"\u001b[39m:\n\u001b[1;32m-> 6934\u001b[0m         \u001b[39mraise\u001b[39;00m \u001b[39mKeyError\u001b[39;00m(\u001b[39mf\u001b[39m\u001b[39m\"\u001b[39m\u001b[39m{\u001b[39;00m\u001b[39mlist\u001b[39m(labels[mask])\u001b[39m}\u001b[39;00m\u001b[39m not found in axis\u001b[39m\u001b[39m\"\u001b[39m)\n\u001b[0;32m   6935\u001b[0m     indexer \u001b[39m=\u001b[39m indexer[\u001b[39m~\u001b[39mmask]\n\u001b[0;32m   6936\u001b[0m \u001b[39mreturn\u001b[39;00m \u001b[39mself\u001b[39m\u001b[39m.\u001b[39mdelete(indexer)\n",
      "\u001b[1;31mKeyError\u001b[0m: '[1] not found in axis'"
     ]
    }
   ],
   "source": [
    "######추출한 아이디 댓글 저장하기######\n",
    "# pd_data = {\"아이디\" : id_final , \"댓글 내용\" : comment_final}\n",
    "pd_data = {\"댓글내용\" : [comment_final]}\n",
    "\n",
    "#pandas DataFrame만들기 =Table형식의 데이터를 다룰 때 사용한다.\n",
    "youtube_pd = pd.DataFrame(pd_data)\n",
    "print(pd_data)\n",
    "youtube_pd.drop([1], axis=0, inplace=True)\n",
    "\n",
    "\n",
    "youtube_pd.to_excel(search+'.xlsx')"
   ]
  },
  {
   "cell_type": "code",
   "execution_count": null,
   "metadata": {},
   "outputs": [],
   "source": []
  }
 ],
 "metadata": {
  "kernelspec": {
   "display_name": "Python 3",
   "language": "python",
   "name": "python3"
  },
  "language_info": {
   "codemirror_mode": {
    "name": "ipython",
    "version": 3
   },
   "file_extension": ".py",
   "mimetype": "text/x-python",
   "name": "python",
   "nbconvert_exporter": "python",
   "pygments_lexer": "ipython3",
   "version": "3.11.1"
  },
  "orig_nbformat": 4,
  "vscode": {
   "interpreter": {
    "hash": "1682e5d06a6d97c1b1cf6bb4ae6cf16223e994936ddb1d53664597d7d46101fa"
   }
  }
 },
 "nbformat": 4,
 "nbformat_minor": 2
}
