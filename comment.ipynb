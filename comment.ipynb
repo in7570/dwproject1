{
 "cells": [
  {
   "cell_type": "code",
   "execution_count": null,
   "metadata": {},
   "outputs": [],
   "source": [
    "pip install openpyxl"
   ]
  },
  {
   "cell_type": "code",
   "execution_count": null,
   "metadata": {},
   "outputs": [],
   "source": [
    "%pip install webdriver-manager"
   ]
  },
  {
   "cell_type": "code",
   "execution_count": null,
   "metadata": {},
   "outputs": [],
   "source": []
  },
  {
   "cell_type": "code",
   "execution_count": 50,
   "metadata": {},
   "outputs": [],
   "source": [
    "import time\n",
    "from openpyxl import Workbook\n",
    "import pandas as pd\n",
    "from bs4 import BeautifulSoup\n",
    "#\n",
    "from selenium.webdriver.common.by import By\n",
    "from selenium.webdriver.common.keys import Keys\n",
    "#chrome driver 링크 연결 없이 바로 하는 법\n",
    "#%pip install webdriver-manager (install받아야함)\n",
    "from selenium import webdriver\n",
    "from selenium.webdriver.chrome.service import Service\n",
    "from selenium.webdriver.chrome.options import Options\n",
    "from webdriver_manager.chrome import ChromeDriverManager\n",
    "#문자열에서 특수문자 제거\n",
    "import re\n",
    "#자동으로 엑셀 파일 열기위함(^^)\n",
    "import openpyxl\n",
    "#경고메세지 지워줌\n",
    "import warnings \n",
    "warnings.filterwarnings('ignore')"
   ]
  },
  {
   "cell_type": "code",
   "execution_count": 38,
   "metadata": {},
   "outputs": [],
   "source": [
    "#엑셀 시트 생성\n",
    "wb = Workbook(write_only=True)\n",
    "ws = wb.create_sheet()\n"
   ]
  },
  {
   "cell_type": "code",
   "execution_count": 26,
   "metadata": {},
   "outputs": [],
   "source": [
    "#크롬드라이버 링크 연결\n",
    "# path='C:\\chromedriver_win32\\chromedriver.exe'\n",
    "# driver= webdriver.Chrome(path) ->\n",
    "driver = webdriver.Chrome(service=Service(ChromeDriverManager().install()), options=Options())\n",
    "\n",
    "#스크롤 시 풀 스크린으로 켜지게되면 우측에 '추천영상' 때문에 댓글보다 더 스크롤이 내려가게 됨\n",
    "#하프 사이즈의 스크린으로 켜게 되면 추천영상이 일정이상 새로고침되지 않음 \n",
    "driver.set_window_size(800, 1100)\n",
    "#이 상태에서는 링크창에 data;,라고 적힌채로 대기상태에 들어감"
   ]
  },
  {
   "cell_type": "code",
   "execution_count": 27,
   "metadata": {},
   "outputs": [],
   "source": [
    "#1. 검색어 입력받기\n",
    "search=input()\n",
    "driver.implicitly_wait(3)\n",
    "\n",
    "\n",
    "#2. 유튜브 실행\n",
    "driver.get(\"https://www.youtube.com\")\n",
    "#3초안에 웹페이지를 로딩하면 바로넘어가거나, 3초를 기다림\n",
    "driver.implicitly_wait(3)\n",
    "\n",
    "#get(링크)로 안하고 이것만 실행하면\n",
    "#현재 페이지에 합쳐진다!!!\n",
    "\n",
    "######검색#######\n",
    "\n",
    "\n",
    "#3. 검색어 send\n",
    "#ID,CLASS_NAME으로 하면 send가 안되거나 click조차 안될때가 있었음\n",
    "#NAME으로 하면 둘 다 해결됨 이유는 모름?\n",
    "search_text=driver.find_element(By.NAME,'search_query')\n",
    "\n",
    "#로딩이 다 안됐기때문에 1초 기다려줌\n",
    "driver.implicitly_wait(1)\n",
    "time.sleep(1)\n",
    "\n",
    "#4. 검색어 전송\n",
    "search_text.send_keys(search+\" -Shorts\")\n",
    "driver.implicitly_wait(5)\n",
    "\n",
    "#검색버튼 누르기\n",
    "# search_btn=driver.find_element(By.CLASS_NAME,'style-scope.ytd-searchbox')\n",
    "# search_btn.click()\n",
    "# driver.implicitly_wait(3)\n",
    "\n",
    "#5. 검색(엔터 누르기)\n",
    "search_text.send_keys(Keys.ENTER)"
   ]
  },
  {
   "cell_type": "code",
   "execution_count": null,
   "metadata": {},
   "outputs": [],
   "source": [
    "######영상 선정######\n",
    "id='dismissible'\n",
    "\n"
   ]
  },
  {
   "cell_type": "code",
   "execution_count": 29,
   "metadata": {},
   "outputs": [],
   "source": [
    "######스크롤하기######\n",
    "#댓글 전체 스크랩하기 위해\n",
    "\n",
    "#275개의 댓글 >> 23.5s , 23.2s , 24.0s 23~24s\n",
    "\n",
    "\n",
    "#화면 최하단으로 스크롤 이동 : scrollTo(0, document.body.scrollHeight)\n",
    "#자바 스크립트 문법 >execute_script(자바스크립트를 실행) > scrollTo\n",
    "\n",
    "#window.scrollTo(x-좌표, y-좌표)\n",
    "#시작위치지정(댓글창이 시작되는 위치)\n",
    "#화면사이즈를 반으로 줄이고나니 스크롤을 끝까지 내린 후에 댓글이 생김\n",
    "driver.execute_script(\"window.scrollTo(0, document.documentElement.scrollHeight)\")\n",
    "driver.implicitly_wait(10)\n",
    "\n",
    "#스크롤 이전 높이\n",
    "#화면 바깥으로 삐져나간 부분까지 포함해서 전체 글의 길이를 scrollHeight\n",
    "last_height = driver.execute_script(\"return document.documentElement.scrollHeight\")\n",
    "\n",
    "while True:\n",
    "    #스크롤의 y좌표를 가장아래(scrollHeight)까지 내림\n",
    "    driver.execute_script(\"window.scrollTo(0, document.documentElement.scrollHeight);\")\n",
    "    time.sleep(1.5)\n",
    "\n",
    "    #스크롤 후 높이 구하기\n",
    "    new_height = driver.execute_script(\"return document.documentElement.scrollHeight\")\n",
    "    #끝까지 스크롤 한 뒤 멈추기\n",
    "    if new_height == last_height:\n",
    "        break\n",
    "    last_height = new_height\n",
    "\n",
    "driver.implicitly_wait(1.5)\n"
   ]
  },
  {
   "cell_type": "code",
   "execution_count": null,
   "metadata": {},
   "outputs": [],
   "source": [
    "######유튜브 팝업 닫기######\n",
    "\n",
    "#find_element_by_css_selector는 과거의 속성 find_element를 쓰는게 나음\n",
    "try:\n",
    "    driver.find_element(By.CSS_SELECTOR,\"#dismiss-button > a\").click()\n",
    "except:\n",
    "    pass"
   ]
  },
  {
   "cell_type": "code",
   "execution_count": 30,
   "metadata": {},
   "outputs": [],
   "source": [
    "######대댓글 토글 열기######\n",
    "# replies = driver.find_element(By.CSS_SELECTOR,\"#more-replies > a\")\n",
    "# replies = driver.find_elements(By.CSS_SELECTOR,\"#more-replies>a\")\n",
    "\n",
    "#find_elements < 무려 s를 안해서틀렸었음 하하 \n",
    "replies = driver.find_elements(By.CLASS_NAME,\"more-button\")\n",
    "\n",
    "time.sleep(1)\n",
    "\n",
    "for reply in replies:\n",
    "    #click도 안됨 send_keys도 안됨\n",
    "    driver.execute_script(\"arguments[0].click();\", reply)\n",
    "    time.sleep(1.5) \n",
    "\n",
    "# reply.click()\n",
    "# reply.send_keys(Keys.ENTER)\n",
    "# 이거 안됨 스크립트로 해결함 근데 11분 18초 걸림!!!!!"
   ]
  },
  {
   "cell_type": "code",
   "execution_count": 53,
   "metadata": {},
   "outputs": [
    {
     "name": "stdout",
     "output_type": "stream",
     "text": [
      "아이디 출력: \n",
      "['  Dugan', '  parkbroccoli', '  userby8hj6bs5b', '  usersd2iw4er9l', '  usersw5ko2vx5i', '  usermm2ye1gz1e', '  usercy1yt3np1j', '  Dongdonguri', '  Milukkng', '  userhs9mi2ex2e', '  ARIRANG', '  vmia', '  usercg5dn6yd7e', '  RIYUB', '  usereh7eq2du5f', '  userxt1ey2tv8q', '  bbiyove', '  userhs9mi2ex2e', '  userqh2hw2re4g', '  userew6wv9dq1s', '  userbe2lf6oq8p', '  vowov1417', '  usersd2iw4er9l', '  userid6ru3bp2w', '  Dahaneul', '  usergz3ol5mp7k', '  0215ily', '  0215ily', '  usertr2fg6hb6t', '  riraly', '  ulu4432', '  usercy9yd3rk2v', '  nodi', '  sungho5721', '  userjc1ec7gl3u', '  peter6047', '  userjk3fq3rf2n', '  userez1dp6lb2o', '  usernc5ow9nu8i', '  usercy1yt3np1j', '  usermm3qy2hr6k', '  userfu9vz6cv5g', '  tiasun', '  userom5ms6ge2c', '  usereh3kj7vs7k', '  usersw5ko2vx5i', '  i52mari', '  evenbetter', '  userxd5dw1yu3x', '  usermm2ye1gz1e', '  usernt3qq2uc9r', '  userfv2jp3ei2t', '  userkq8sg8de3j', '  Immjiji', '  gimmunji', '  usersb6ps1xl7e', '  userrp9bq7dh3b', '  sojin0514', '  userlc6zu3bq4f', '  userby8hj6bs5b', '  k1mgord0n', '  jinzzaa', '  hg6255', '  userrh1ti6yb9x', '  userbe2lf6oq8p', '  hg6255', '  userjk3fq3rf2n', '  userxe1pz8sg4u', '  0215ily', '  gyeolbak', '  ln945', '  userlc2pz8bw7o', '  userlc2pz8bw7o', '  usercu6be4zd7g', '  useryr8cd3ub5e', '  userti7sc1ms8s', '  userhl9ht6ir1y', '  riraly', '  useryr4nn5ef2v', '  usermm2ye1gz1e', '  useruq1te9tf4m', '  userco7im3mg7h', '  echo09', '  usertb6qk1yg2f', '  fighterh9077', '  userpx8cu1md7n', '  userik9ug7lw3s', '  ARIRANG', '  itseol', '  2222twofour', '  usercj3cg9js9m', '  userwq7uv5bf4l', '  usersn2sd4jj3j', '  Se0Yo04', '  jjs1127', '  userrs1bo7nn8h', '  userhe2nd6ze5m', '  yjs6786', '  userxq3zb2pc4p', '  parkbroccoli', '  ddongdungary', '  ucuc']\n",
      "=================\n",
      "댓글 출력: \n",
      "['1월 20일 트위치 방송 복귀도 기대해주세요 \\r   \\rhttps   www twitch tv du gan', '와아아 복귀다아아 18일날 화이팅  ', '헐 진짜요    너무너무 좋습니다요   ', '와아아  신곡과함께 복귀까지 해주시다니 넘 행복해요   ', '방송 안챙겨보는편인데   시간내서라도 두간님 방송은 사수하겠습니다    갓두간사마   ', '와 진심 행복해   ', '와아아아아', '두간님 노래 진짜 너무 좋아요 저 사클도 맨날 들어요 목소리사기 노래실력사기 ', '우와우 저   믹스했어요   두간님 여름푸름 대박이다 그냥 한겨울을 여름으로 만들어줬어 덥다 더워', '고생하셨습니다  ', ' 여름이었다 ', '   진짜    언제들어도 진짜 갓      항상 잘듣고 있습니다 감사합니다 ', '한겨울을 그냥 여름으로 바꿔버리시네요   ', '완전 청량 그자체   ', '진짜 청량해요     아 좋다 진짜   ', '와   두간님 이번노래도 최곱니댜     좋아요         ', '역시 믿고 듣는 두간 님    제게 여름이 벌써 온 것 같아요   ', '노래도 좋고 두간님 음색도 좋고 노래를 하고 유튜브를 해주셔서 정말 감사합니다', '와  진짜 좋다  기다린 보람이 있음 시원시원하니 너무 좋음', '최근에 두간님 생각하고 있었는데 이렇게 나오는군요     그동안 일본노래 많이 들었는데 전에 몰랐던 띵곡들을 커버하셨더라고요 이번에 정주행 갑니다 ', '편곡 가사 보고 싶어서 죽겠어요 눈 뜨자마자 두간님 노래부터 트는 중', '캬 돌아오시는군요    고생많으셨습니다  안들었는데도 벌써 좋을거같네요', '무려 3주전에도 나온곡도 좋았는데 이번엔 방송에서 말하셨던 푸름과여름곡을 불러주시다니 그리고 방송복귀까지 해주시니 진짜 넘 조아여    최초공개까지 이틀을 기다려야 되다니 또르륵     최초공개까지 존버하겠습니다  ', '와 너무 좋다          고음들을때마다 소름돋아서 계속 듣게되는 갓두간  목소리넘흐져아 멋있쪄', '기분 안 좋았는데 너무 시원한 일러랑 영상에 시원한 노래까지 진짜 정신 정화됬어요 감사합니다', '두간님이 제 여름 그자체랍니다  ', '두간님의 시원시원한 목소리는 늘 새롭고 기쁜 마음밖에 없어요  항상 두간님 노래도 들으면서 힘을 엄청 받고는 하는데 이렇게 청량한 청춘 여름 곡을 가지고 오시다니 겨울이어도 너무 더워지는 기분이에요   노래에서 바다 냄새 나는건 또 새롭네요 일러스트도 너무 좋고 예뻐요  그래도 두간님이 가장 예쁘시고 멋져요  듣는동안 계속 집중했는데 한동안 계속 듣겠네요     또 오랜만에 발걸음 해주셔서 너무 기뻐요  트위치 방송도 시간이 걸려서 계속 못 갔는데 이번에는 꼭 봐야겠어요  정말  너무 수고하셨고  좋은 노래 선사해주셔서 감사드려요  항상 응원해요  두간님  ', '하트 하나하나 주셔서 정말 감사드려요  답글이 없어도 하트만으로 마음이 정말 가득 따뜻해지네요  ', '이거 제가 너무너무너무너무너무너무너무너무 좋아하는     노래   예요 흑흑  ', '와   역시 두간님 최고예요      미쳤다', '                            ', '아       뭐야     아직 안 들어봤는데 벌써 좋아', '입덕 이후로 매일 두간님 플레이리스트 따로 만들어 들으면서 신곡만 기다렸어요      ', '   을 여러번 들어봤지만한국분 커버중에 최고입니다 ', '두간님 정말 보고 싶었어요   이번 노래도 너무너무 기대하고 있어요   진짜 항상 언제까지나 노래 불러주셔야 해요  ', '두간님    제가 두간님 노래를 우연찮게 듣고 바로 유튜브 프리미엄을 질러서 어느 새 꽤 오랜 시간이 지났는데요    오늘도 유튜브 프리미엄 야무지게 쓰고 갑니다    바로 유튜브 뮤직 플레이리스트에 넣었어요   잘 듣고 갑니다  ', '두간 님의 시원시원한 보컬이랑 이 곡이 너무 잘 어울려요  3', '바쁜 현생에도 잊지 않고 돌아와주신 두간님 대환영노래 완전 청춘 그자체네요   매번 덕분에 좋은 노래 알아갑니다', '제가 즐겨듣는 노래인데 이렇게 불러주시다니   앞으로 잘 듣겠습니다', '두간님 노래 자체가 청량함이고 녹음이니까 오늘부터 여름이다 반팔 꺼내야지 ', '이 노래 들으니까 두간님 좋아하던 제 학창시절 한페이지씩 넘겨보는 거 같고   진짜 첫사랑이었다 ', '으아아악 겨울에 듣는 여름 청춘 밴드곡 너무 좋아요    두간님은 신이다       ', '청량 그 자체      ', '와 제가 정말 좋아하는노랜데       커버해주셔서 감사해요 ', '오우 씨이이이잇 뭐야 두간님 개쩔잖아요    바쁘신 와중에 돌아와 노래 불러주신 두간님 항상 감사합니다   ', '이 노래 청량해서 원래도 좋아했는데 두간님 목소리에 시원한 고음이 있는 커버곡 진짜 너무 좋아요   유명한 노래인 만큼 친구들에게 열심히 영입해보겠습니다 정말 너무 잘 들었습니다 플리에 이노래 추가해놓고 계속 듣겠군요', '말로 형용할 수 없을 만큼 좋아서 댓글을 지웠다가 쓰기만 반복하다가 이제야 남기네요  항상 멋진 곡을 멋진 목소리로 불러주셔서 감사드립니다  일러도 영상도 믹스도 다 좋아요 여름이 오면 더더욱 생각날 것 같은 노래네요  현생 때문에 방송 챙겨보기 힘들어졌지만 항상 두간님을 응원하고 있어요  ', '끝음처리 환상적   ', '노래 너무 좋아요   새해 복 많이 받으세요', '와 이 노래를 두간님 목소리로 듣다니    홀리', '금요일이 너무 기대됩니다이번에도 청량하고 진짜 딱 두간님이랑 찰떡인 커버  ', '외쳐 두갓', '역시 목소리로 홀리는 남자  치명적  ', '두간님 목소리에 너무너무 잘어울리는 노래를 들고오셨네요            찰떡인 노래에 찰떡인 일러스트까지 진짜 너무 최고예요  방송 복귀도 축하드리고 노래도 감사합니다           ', '갓두간 진짜    이제  그  만 사랑하고싶습니다  ', '두간님의 또 다른 커버라니    일러스트부터가 너무 맘에 드네요    이번에도 잘 듣도록 하겠습니다 ', '뭐야   한겨울에 느끼는 두간넴의 청량감이란   진짜 최고라구요 광광', '알고리즘 통해서 왔는데 노래 너무 잘 부르시네요 ', '제가 제일 좋아하는 밴드의 제일 좋아하는 곡을 제일 좋아하는 두간님이 커버라니    전 정말 죽어도 여한이 없어요    이 날을 위해 살아온 나를 위해 치얼스    여름바람해돋이 투고때부터 정말 꾸준히 지켜보고 좋아했어요    색다른 두간님의 여름을 맛본 것 같아서 너무너무 기쁩니다    트위치 방송 복귀도 꼭 챙길게요     ', '항상 매번 생각하고 말하는 거지만 두간님이 부르신 곡을 듣고 난 후로부터는 저는   두간님이 아니면 만족할 수가 없게 되는 경지에 이르렀습니다      이렇게 안타까운 저를 봐서라도 부디   그래도   가능한    70살까지라도 계속해서 노래를 부러주심은 어떠하신지요   진심을 담아서 간청드리옵니다요     두간님 두간님은 사람이 아닙니다요    제가 이런 말은 진짜 안 하는데 혹시 두간님   천사이신지요   두간님의 이 아 리 따 운  목소리는 천사가 아닌 이상 낼 수 없고 있을 수도 없 는  목소리입니다      한 번 말을 하니 자꾸 길어지네요     그정도로 두간님의 목소리     하   사랑합니다    두간님과 같은 세계와 같은 시대에서 살아가는 것만으로도 영광스러워 가슴이 벅찬데 노래까지 불러주시다니 그저 영광 또 영광이옵니다     정말 마지막으로    두간님     사랑하고요 또 앞으로 평생 노래 불러주실 거죠     ', '진짜 두간님 목소리가 너무 좋네요    간드러지는 두간님 노래 계속 듣고 싶어요    이번 커버도 너무 좋습니다  ', '사랑합니다  사랑합니다   엄청 기다렸어요   한동안 이 노래만 계속 반복해서 들을 예정   ', '두간님 새해복 많이 받으세요   ', '믿고듣는 두간    현생이 아무리 바빠도 진짜 두간님 노래는 주기적으로 들어줘야하는 병에걸리고말았어요 이번 노래도 너무너무 잘 들었습니다   앞으로도 쭉 좋은노래 내주세요  ', '최공뜨고 알람설정은 해뒀지만 보고싶어서 다시 왔어여 이제           24시간 남았다  너무 보고싶었는데 푸름과 여름이라니요                  감사합니다', ' 원더풀   ', '와 푸름과 여름         최고예요', '역시 두간님 두간님이 커버한 만개화도 듣고싶어요', '두간님 수고하셨어요정말 그리웠답니다 항상 기다릴게요  ', '기다렸습니다  이거 두간님의 잿빛과 푸름이랑 어울릴 것 같아요  잿빛과 푸름은 겨울  이거는 여름 ', '미리 천국가있겠습니다  아 그리고 두간님이 부르시는 kick back 듣고싶습니다   다음에 들어볼수있으면 좋겠네요 긁는목소리 들으니까 딱 두간님생각나더라구요   ', '이 청량함 어떡해   올해의 여름을 책임져              ', '4 20 극락', '샘 제발 henceforth 사클에 업로드 해주세요 진짜 저 하루종일 그것만 듣는데 유튜브 프리미엄 안 써서 죽을 것 같아요 제발 진자 올려주세요    원곡보다 샘 커버가 더 좋아서 샘 목소리만 듣는다구요  빨라 절 책임져줘요', '좋은 노래 늘 감사합니다 ', '청춘과 여름   Mrs  Green Apple의 여름 연금 곡이죠 ', '하   쌤 개쩔어요 어떻게 사람목소리가 이렇게 좋을수가 있는지         ', '와   두간님    와대박     ', '이 추운 눈 덮인 겨울 날 마치 매미소리가 들리는 듯한 ', '플레이리스트에 하나 추가할게 늘었네   히히', '당신만을 기다리고 있었다우  ', '청춘 중 가장 사랑했던 시절을 보는 것만 같아요 어느새 성숙해버린 내가 어린 날 사랑했던 첫사랑 상기한 기분이에요', ' ', '캬 너무 좋다', '요루시카 신곡 두간님 감성으로 듣고싶어요 ', '두목님 기다리고 있었습네다  드디어 돌아오시는구만요  두목님 안 계시는 동안 저쪽 파에서 두목님 찾느라 애먹었습다 ', '노래 신청 그런거 하면 좀 불편하시려나   그래도 개인적으로 만개화 진짜 듣고싶어요 저진짜 연예인 아이돌 배우 유튜버 그런거 파는사람 아닌데 처음으로 덕질하게된거같아요 지금 다 찾아서 듣는중 미쳤다진짜 나왜이래', '시원할 준비 완료  딱 대 ', '넘무조코 오오오오 오오오오    ', '두간님 복귀오늘부터 여름이에요 ', '와 잘뽑히셨댜', '사랑애요   ', '만개화 불러주세요   ', '두간 최고야', '만개화 불러주세요 제발  ', '두간했다  ', '이곳이 제 누울 자리군요  ', ' ', '가보자구  ', '1일 남았다   ', '아이스크림 캔디밬     ', '너무 잘부르시네요 하트 오조오억개 드립니당']\n"
     ]
    }
   ],
   "source": [
    "######댓글 가져오기#######\n",
    "#page_source\n",
    "#브라우저에 보이는 그대로의 HTML, 크롬 개발자 도구의 Element 탭 내용과 동일.\n",
    "html_source = driver.page_source\n",
    "#BeautifulSoup(html문서,'html.parser')\n",
    "soup = BeautifulSoup(html_source, 'html.parser')\n",
    "\n",
    "#soup.select 조건에 맞는 태그를 여러개 가져옴 \n",
    "#soup.select_one() 조건에 맞는 태그를 한개(여러개가 있어도 한개만)\n",
    "#태그이름  .클래스이름  #아이디이름  상위태그>자식태그>자식태그\n",
    "#아이디>태그.클래스이름\n",
    "id_list = soup.select(\"div#header-author > h3 > #author-text > span\")\n",
    "comment_list = soup.select(\"yt-formatted-string#content-text\")\n",
    "\n",
    "id_final = []\n",
    "comment_final = []\n",
    "\n",
    "for i in range(len(comment_list)):\n",
    "    temp_id = id_list[i].text  #아이디 리스트를 가져와서\n",
    "    temp_id = temp_id.replace('\\n', '') #필요한 부분만 남기면\n",
    "    temp_id = temp_id.replace('\\t', '')\n",
    "    temp_id = temp_id.replace('    ', '')\n",
    "    temp_id = re.sub(r\"[^\\uAC00-\\uD7A30-9a-zA-Z\\s]\",\"\",temp_id)\n",
    "    id_final.append(temp_id) # 댓글 작성자 id_final이 생김\n",
    "\n",
    "    temp_comment = comment_list[i].text #마찬가지\n",
    "    temp_comment = temp_comment.replace('\\n', '')\n",
    "    temp_comment = temp_comment.replace('\\t', '')\n",
    "    temp_comment = temp_comment.replace('    ', '')\n",
    "    temp_comment = re.sub(r\"[^\\uAC00-\\uD7A30-9a-zA-Z\\s]\",\" \",temp_comment)\n",
    "    comment_final.append(temp_comment) # 댓글 내용\n",
    "\n",
    "#결과확인\n",
    "print(\"아이디 출력: \")\n",
    "print(id_final)\n",
    "print('=================')\n",
    "print(\"댓글 출력: \")\n",
    "print(comment_final)"
   ]
  },
  {
   "cell_type": "code",
   "execution_count": 47,
   "metadata": {},
   "outputs": [],
   "source": [
    "######추출한 아이디 댓글 저장하기######\n",
    "pd_data = {\"아이디\" : id_final , \"댓글 내용\" : comment_final}\n",
    "#pandas DataFrame만들기 =Table형식의 데이터를 다룰 때 사용한다.\n",
    "youtube_pd = pd.DataFrame(pd_data)\n",
    "\n",
    "youtube_pd.to_excel('result.xlsx')"
   ]
  },
  {
   "cell_type": "code",
   "execution_count": 51,
   "metadata": {},
   "outputs": [
    {
     "data": {
      "text/plain": [
       "<openpyxl.workbook.workbook.Workbook at 0x1d5a3d677d0>"
      ]
     },
     "execution_count": 51,
     "metadata": {},
     "output_type": "execute_result"
    }
   ],
   "source": [
    "# #엑셀파일 자동으로 열라고했는데 실패한 흔적들\n",
    "# #엑셀 파일 가져오기\n",
    "# open=openpyxl.load_workbook('result.xlsx')\n",
    "# #시트명 취득 \n",
    "# sheet=open.get_sheet_names('Sheet1')\n",
    "# sheet.cell(row=1, column=1).value"
   ]
  },
  {
   "cell_type": "code",
   "execution_count": null,
   "metadata": {},
   "outputs": [],
   "source": []
  }
 ],
 "metadata": {
  "kernelspec": {
   "display_name": "Python 3",
   "language": "python",
   "name": "python3"
  },
  "language_info": {
   "codemirror_mode": {
    "name": "ipython",
    "version": 3
   },
   "file_extension": ".py",
   "mimetype": "text/x-python",
   "name": "python",
   "nbconvert_exporter": "python",
   "pygments_lexer": "ipython3",
   "version": "3.11.1"
  },
  "orig_nbformat": 4,
  "vscode": {
   "interpreter": {
    "hash": "1682e5d06a6d97c1b1cf6bb4ae6cf16223e994936ddb1d53664597d7d46101fa"
   }
  }
 },
 "nbformat": 4,
 "nbformat_minor": 2
}
